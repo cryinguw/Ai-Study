{
 "cells": [
  {
   "cell_type": "markdown",
   "id": "3338cae0",
   "metadata": {},
   "source": [
    "# Vocabulary Size를 변경해서 시도해보기"
   ]
  },
  {
   "cell_type": "markdown",
   "id": "1aff0228",
   "metadata": {},
   "source": [
    "## 1. 모듈 가져오기"
   ]
  },
  {
   "cell_type": "code",
   "execution_count": 1,
   "id": "d578d712",
   "metadata": {},
   "outputs": [],
   "source": [
    "from tensorflow.keras.datasets import reuters\n",
    "import matplotlib.pyplot as plt\n",
    "import seaborn as sns\n",
    "import numpy as np\n",
    "import pandas as pd"
   ]
  },
  {
   "cell_type": "markdown",
   "id": "5b60030e",
   "metadata": {},
   "source": [
    "## 2. 데이터 가져오기"
   ]
  },
  {
   "cell_type": "markdown",
   "id": "0948a28c",
   "metadata": {},
   "source": [
    "### 1. 모든 단어  사용\n",
    "\n"
   ]
  },
  {
   "cell_type": "code",
   "execution_count": 2,
   "id": "022960f4",
   "metadata": {},
   "outputs": [
    {
     "name": "stdout",
     "output_type": "stream",
     "text": [
      "Downloading data from https://storage.googleapis.com/tensorflow/tf-keras-datasets/reuters.npz\n",
      "2113536/2110848 [==============================] - 0s 0us/step\n",
      "2121728/2110848 [==============================] - 0s 0us/step\n"
     ]
    }
   ],
   "source": [
    "(x_train, y_train), (x_test, y_test) = reuters.load_data(num_words=None, test_split=0.2)"
   ]
  },
  {
   "cell_type": "code",
   "execution_count": 4,
   "id": "d71b76f6",
   "metadata": {},
   "outputs": [
    {
     "name": "stdout",
     "output_type": "stream",
     "text": [
      "훈련 샘플의 수: 8982\n",
      "테스트 샘플의 수: 2246\n"
     ]
    }
   ],
   "source": [
    "print('훈련 샘플의 수: {}'.format(len(x_train)))\n",
    "print('테스트 샘플의 수: {}'.format(len(x_test)))"
   ]
  },
  {
   "cell_type": "code",
   "execution_count": 5,
   "id": "861f0420",
   "metadata": {},
   "outputs": [
    {
     "name": "stdout",
     "output_type": "stream",
     "text": [
      "클래스의 수 : 46\n"
     ]
    }
   ],
   "source": [
    "num_classes = max(y_train) + 1\n",
    "print('클래스의 수 : {}'.format(num_classes))"
   ]
  },
  {
   "cell_type": "code",
   "execution_count": 6,
   "id": "5b9b00b6",
   "metadata": {},
   "outputs": [
    {
     "name": "stdout",
     "output_type": "stream",
     "text": [
      "훈련용 뉴스의 최대 길이 :2376\n",
      "훈련용 뉴스의 평균 길이 :145.5398574927633\n"
     ]
    },
    {
     "data": {
      "image/png": "[encoded data removed]",
      "text/plain": [
       "<Figure size 432x288 with 1 Axes>"
      ]
     },
     "metadata": {
      "needs_background": "light"
     },
     "output_type": "display_data"
    }
   ],
   "source": [
    "print('훈련용 뉴스의 최대 길이 :{}'.format(max(len(l) for l in x_train)))\n",
    "print('훈련용 뉴스의 평균 길이 :{}'.format(sum(map(len, x_train))/len(x_train)))\n",
    "\n",
    "plt.hist([len(s) for s in x_train], bins=50)\n",
    "plt.xlabel('length of samples')\n",
    "plt.ylabel('number of samples')\n",
    "plt.show()"
   ]
  },
  {
   "cell_type": "code",
   "execution_count": 7,
   "id": "492b2268",
   "metadata": {},
   "outputs": [
    {
     "name": "stdout",
     "output_type": "stream",
     "text": [
      "Downloading data from https://storage.googleapis.com/tensorflow/tf-keras-datasets/reuters_word_index.json\n",
      "557056/550378 [==============================] - 0s 0us/step\n",
      "565248/550378 [==============================] - 0s 0us/step\n"
     ]
    }
   ],
   "source": [
    "word_index = reuters.get_word_index(path=\"reuters_word_index.json\")"
   ]
  },
  {
   "cell_type": "code",
   "execution_count": 8,
   "id": "8c5495fc",
   "metadata": {},
   "outputs": [],
   "source": [
    "index_to_word = {index + 3 : word for word, index in word_index.items()}"
   ]
  },
  {
   "cell_type": "code",
   "execution_count": 11,
   "id": "0cc3c01b",
   "metadata": {},
   "outputs": [
    {
     "name": "stdout",
     "output_type": "stream",
     "text": [
      "<sos> mcgrath rentcorp said as a result of its december acquisition of space co it expects earnings per share in 1987 of 1 15 to 1 30 dlrs per share up from 70 cts in 1986 the company said pretax net should rise to nine to 10 mln dlrs from six mln dlrs in 1986 and rental operation revenues to 19 to 22 mln dlrs from 12 5 mln dlrs it said cash flow per share this year should be 2 50 to three dlrs reuter 3\n"
     ]
    }
   ],
   "source": [
    "for index, token in enumerate((\"<pad>\", \"<sos>\", \"<unk>\")):\n",
    "  index_to_word[index]=token\n",
    "\n",
    "print(' '.join([index_to_word[index] for index in x_train[0]]))"
   ]
  },
  {
   "cell_type": "markdown",
   "id": "70aa4770",
   "metadata": {},
   "source": [
    "전체 데이터 변환(train, test)"
   ]
  },
  {
   "cell_type": "code",
   "execution_count": 12,
   "id": "9d4b9404",
   "metadata": {},
   "outputs": [],
   "source": [
    "decoded = []\n",
    "for i in range(len(x_train)):\n",
    "    t = ' '.join([index_to_word[index] for index in x_train[i]])\n",
    "    decoded.append(t)\n",
    "\n",
    "x_train = decoded"
   ]
  },
  {
   "cell_type": "code",
   "execution_count": 13,
   "id": "9d71c0c5",
   "metadata": {},
   "outputs": [],
   "source": [
    "decoded = []\n",
    "for i in range(len(x_test)):\n",
    "    t = ' '.join([index_to_word[index] for index in x_test[i]])\n",
    "    decoded.append(t)\n",
    "\n",
    "x_test = decoded"
   ]
  },
  {
   "cell_type": "markdown",
   "id": "edb6639c",
   "metadata": {},
   "source": [
    "## 3. 벡터화 하기"
   ]
  },
  {
   "cell_type": "markdown",
   "id": "602f5607",
   "metadata": {},
   "source": [
    "Document Term Matrix, DTM을 활용한 TF-IDF행렬로 벡터화"
   ]
  },
  {
   "cell_type": "code",
   "execution_count": 15,
   "id": "13ddb5d7",
   "metadata": {},
   "outputs": [
    {
     "name": "stdout",
     "output_type": "stream",
     "text": [
      "(8982, 26506)\n",
      "(8982, 26506)\n"
     ]
    }
   ],
   "source": [
    "from sklearn.feature_extraction.text import CountVectorizer\n",
    "from sklearn.feature_extraction.text import TfidfTransformer\n",
    "\n",
    "# DTM 생성\n",
    "dtmvector = CountVectorizer()\n",
    "x_train_dtm = dtmvector.fit_transform(x_train)\n",
    "print(x_train_dtm.shape)\n",
    "\n",
    "# TF-IDF 생성\n",
    "tfidf_transformer = TfidfTransformer()\n",
    "tfidfv = tfidf_transformer.fit_transform(x_train_dtm)\n",
    "print(tfidfv.shape)"
   ]
  },
  {
   "cell_type": "markdown",
   "id": "e86acf1b",
   "metadata": {},
   "source": [
    "## 4. 머신러닝 모델학습"
   ]
  },
  {
   "cell_type": "markdown",
   "id": "69292d2f",
   "metadata": {},
   "source": [
    "나이브 베이즈 분류기\n",
    "\n",
    "Complement Naive Bayes Classifier, CNB\n",
    "\n",
    "로지스틱 회귀\n",
    "\n",
    "서포트 벡터 머신(SVM)\n",
    "\n",
    "결정 트리\n",
    "\n",
    "랜덤 포레스트\n",
    "\n",
    "그래디언트 부스팅 트리\n",
    "\n",
    "보팅"
   ]
  },
  {
   "cell_type": "code",
   "execution_count": 31,
   "id": "6d8e7cbe",
   "metadata": {},
   "outputs": [],
   "source": [
    "from sklearn.naive_bayes import MultinomialNB\n",
    "from sklearn.linear_model import LogisticRegression, SGDClassifier\n",
    "from sklearn.naive_bayes import ComplementNB\n",
    "from sklearn.tree import DecisionTreeClassifier\n",
    "from sklearn.ensemble import RandomForestClassifier\n",
    "from sklearn.ensemble import GradientBoostingClassifier\n",
    "from sklearn.ensemble import VotingClassifier\n",
    "from sklearn.svm import LinearSVC\n",
    "from sklearn.metrics import accuracy_score\n",
    "from sklearn.metrics import classification_report\n",
    "from sklearn.metrics import confusion_matrix\n",
    "import warnings\n",
    "warnings.filterwarnings(\"ignore\")"
   ]
  },
  {
   "cell_type": "code",
   "execution_count": 32,
   "id": "6a5678ee",
   "metadata": {},
   "outputs": [
    {
     "name": "stdout",
     "output_type": "stream",
     "text": [
      "[나이브 베이즈 분류기]\n",
      "- 정확도: 0.5997328584149599\n",
      "\n",
      "\n",
      "[나이브 베이즈 분류기의 Classification Report]\n",
      "Average F1-score:  0.60\n"
     ]
    }
   ],
   "source": [
    "# 나이브 베이즈 분류기\n",
    "print(\"[나이브 베이즈 분류기]\")\n",
    "mod = MultinomialNB()\n",
    "mod.fit(tfidfv, y_train)\n",
    "\n",
    "x_test_dtm = dtmvector.transform(x_test) #테스트 데이터를 DTM으로 변환\n",
    "tfidfv_test = tfidf_transformer.transform(x_test_dtm) #DTM을 TF-IDF 행렬로 변환\n",
    "\n",
    "predicted = mod.predict(tfidfv_test) #테스트 데이터에 대한 예측\n",
    "print(\"- 정확도:\", accuracy_score(y_test, predicted)) #예측값과 실제값 비교\n",
    "print(\"\\n\")\n",
    "print(\"[나이브 베이즈 분류기의 Classification Report]\")\n",
    "\n",
    "report = classification_report(y_test, mod.predict(tfidfv_test))\n",
    "lines = report.split('\\n')\n",
    "average_line = lines[-4]\n",
    "average_data = average_line.split()\n",
    "\n",
    "# 추출된 average 데이터 출력\n",
    "print(\"Average F1-score: \", average_data[1])"
   ]
  },
  {
   "cell_type": "code",
   "execution_count": 34,
   "id": "4a18da0f",
   "metadata": {},
   "outputs": [
    {
     "name": "stdout",
     "output_type": "stream",
     "text": [
      "[CNB]\n",
      "정확도: 0.7649154051647373\n",
      "\n",
      "\n",
      "[CNB의 Classification Report]\n",
      "Average F1-score:  0.76\n"
     ]
    }
   ],
   "source": [
    "# CNB\n",
    "print(\"[CNB]\")\n",
    "cb = ComplementNB()\n",
    "cb.fit(tfidfv, y_train)\n",
    "\n",
    "predicted = cb.predict(tfidfv_test) #테스트 데이터에 대한 예측\n",
    "print(\"정확도:\", accuracy_score(y_test, predicted)) #예측값과 실제값 비교\n",
    "print(\"\\n\")\n",
    "print(\"[CNB의 Classification Report]\")\n",
    "\n",
    "report = classification_report(y_test, cb.predict(tfidfv_test))\n",
    "lines = report.split('\\n')\n",
    "average_line = lines[-4]\n",
    "average_data = average_line.split()\n",
    "\n",
    "# 추출된 average 데이터 출력\n",
    "print(\"Average F1-score: \", average_data[1])"
   ]
  },
  {
   "cell_type": "code",
   "execution_count": 35,
   "id": "042bd267",
   "metadata": {},
   "outputs": [
    {
     "name": "stdout",
     "output_type": "stream",
     "text": [
      "[로지스틱 회귀]\n",
      "정확도: 0.813446126447017\n",
      "\n",
      "\n",
      "[로지스틱 회귀의 Classification Report]\n",
      "Average F1-score:  0.81\n"
     ]
    }
   ],
   "source": [
    "# 로지스틱 회귀\n",
    "print(\"[로지스틱 회귀]\")\n",
    "lr = LogisticRegression(C=10000, penalty='l2')\n",
    "lr.fit(tfidfv, y_train)\n",
    "\n",
    "predicted = lr.predict(tfidfv_test) #테스트 데이터에 대한 예측\n",
    "print(\"정확도:\", accuracy_score(y_test, predicted)) #예측값과 실제값 비교\n",
    "print(\"\\n\")\n",
    "print(\"[로지스틱 회귀의 Classification Report]\")\n",
    "\n",
    "report = classification_report(y_test, lr.predict(tfidfv_test))\n",
    "lines = report.split('\\n')\n",
    "average_line = lines[-4]\n",
    "average_data = average_line.split()\n",
    "\n",
    "# 추출된 average 데이터 출력\n",
    "print(\"Average F1-score: \", average_data[1])"
   ]
  },
  {
   "cell_type": "code",
   "execution_count": 36,
   "id": "fa52d5d0",
   "metadata": {},
   "outputs": [
    {
     "name": "stdout",
     "output_type": "stream",
     "text": [
      "[서포트 벡터 머신]\n",
      "정확도: 0.776046304541407\n",
      "\n",
      "\n",
      "[서포트 벡터 머신의 Classification Report]\n",
      "Average F1-score:  0.78\n"
     ]
    }
   ],
   "source": [
    "# 서포트 벡터 머신\n",
    "print(\"[서포트 벡터 머신]\")\n",
    "lsvc = LinearSVC(C=1000, penalty='l1', max_iter=500, dual=False)\n",
    "lsvc.fit(tfidfv, y_train)\n",
    "\n",
    "predicted = lsvc.predict(tfidfv_test) #테스트 데이터에 대한 예측\n",
    "print(\"정확도:\", accuracy_score(y_test, predicted)) #예측값과 실제값 비교\n",
    "print(\"\\n\")\n",
    "print(\"[서포트 벡터 머신의 Classification Report]\")\n",
    "\n",
    "report = classification_report(y_test,lsvc.predict(tfidfv_test))\n",
    "lines = report.split('\\n')\n",
    "average_line = lines[-4]\n",
    "average_data = average_line.split()\n",
    "\n",
    "# 추출된 average 데이터 출력\n",
    "print(\"Average F1-score: \", average_data[1])"
   ]
  },
  {
   "cell_type": "code",
   "execution_count": 37,
   "id": "f80fd5ee",
   "metadata": {},
   "outputs": [
    {
     "name": "stdout",
     "output_type": "stream",
     "text": [
      "[결정 트리]\n",
      "정확도: 0.6211041852181657\n",
      "\n",
      "\n",
      "[결정 트리의 Classification Report]\n",
      "Average F1-score:  0.62\n"
     ]
    }
   ],
   "source": [
    "# 결정 트리\n",
    "print(\"[결정 트리]\")\n",
    "tree = DecisionTreeClassifier(max_depth=10, random_state=0)\n",
    "tree.fit(tfidfv, y_train)\n",
    "\n",
    "predicted = tree.predict(tfidfv_test) #테스트 데이터에 대한 예측\n",
    "print(\"정확도:\", accuracy_score(y_test, predicted)) #예측값과 실제값 비교\n",
    "print(\"\\n\")\n",
    "print(\"[결정 트리의 Classification Report]\")\n",
    "\n",
    "report = classification_report(y_test,tree.predict(tfidfv_test))\n",
    "lines = report.split('\\n')\n",
    "average_line = lines[-4]\n",
    "average_data = average_line.split()\n",
    "\n",
    "# 추출된 average 데이터 출력\n",
    "print(\"Average F1-score: \", average_data[1])"
   ]
  },
  {
   "cell_type": "code",
   "execution_count": 38,
   "id": "0763f12e",
   "metadata": {},
   "outputs": [
    {
     "name": "stdout",
     "output_type": "stream",
     "text": [
      "[랜덤 포레스트]\n",
      "정확도: 0.6544968833481746\n",
      "\n",
      "\n",
      "[랜덤 포레스트의 Classification Report]\n",
      "Average F1-score:  0.65\n"
     ]
    }
   ],
   "source": [
    "# 랜덤 포레스트\n",
    "print(\"[랜덤 포레스트]\")\n",
    "forest = RandomForestClassifier(n_estimators=5, random_state=0)\n",
    "forest.fit(tfidfv, y_train)\n",
    "\n",
    "predicted = forest.predict(tfidfv_test) #테스트 데이터에 대한 예측\n",
    "print(\"정확도:\", accuracy_score(y_test, predicted)) #예측값과 실제값 비교\n",
    "print(\"\\n\")\n",
    "print(\"[랜덤 포레스트의 Classification Report]\")\n",
    "\n",
    "report = classification_report(y_test,forest.predict(tfidfv_test))\n",
    "lines = report.split('\\n')\n",
    "average_line = lines[-4]\n",
    "average_data = average_line.split()\n",
    "\n",
    "# 추출된 average 데이터 출력\n",
    "print(\"Average F1-score: \", average_data[1])"
   ]
  },
  {
   "cell_type": "code",
   "execution_count": 39,
   "id": "73d18244",
   "metadata": {},
   "outputs": [
    {
     "name": "stdout",
     "output_type": "stream",
     "text": [
      "[그래디언트 부스팅 트리]\n",
      "정확도: 0.7702582368655387\n",
      "\n",
      "\n",
      "[그래디언트 부스팅 트리의 Classification Report]\n",
      "Average F1-score:  0.77\n"
     ]
    }
   ],
   "source": [
    "# 그래디언트 부스팅 트리\n",
    "print(\"[그래디언트 부스팅 트리]\")\n",
    "grbt = GradientBoostingClassifier(random_state=0) # verbose=3\n",
    "grbt.fit(tfidfv, y_train)\n",
    "\n",
    "predicted = grbt.predict(tfidfv_test) #테스트 데이터에 대한 예측\n",
    "print(\"정확도:\", accuracy_score(y_test, predicted)) #예측값과 실제값 비교\n",
    "print(\"\\n\")\n",
    "print(\"[그래디언트 부스팅 트리의 Classification Report]\")\n",
    "\n",
    "report = classification_report(y_test,grbt.predict(tfidfv_test))\n",
    "lines = report.split('\\n')\n",
    "average_line = lines[-4]\n",
    "average_data = average_line.split()\n",
    "\n",
    "# 추출된 average 데이터 출력\n",
    "print(\"Average F1-score: \", average_data[1])"
   ]
  },
  {
   "cell_type": "code",
   "execution_count": 41,
   "id": "fda8c32b",
   "metadata": {},
   "outputs": [
    {
     "name": "stdout",
     "output_type": "stream",
     "text": [
      "[보팅]\n"
     ]
    },
    {
     "name": "stderr",
     "output_type": "stream",
     "text": [
      "/opt/conda/lib/python3.9/site-packages/sklearn/linear_model/_logistic.py:814: ConvergenceWarning: lbfgs failed to converge (status=1):\n",
      "STOP: TOTAL NO. of ITERATIONS REACHED LIMIT.\n",
      "\n",
      "Increase the number of iterations (max_iter) or scale the data as shown in:\n",
      "    https://scikit-learn.org/stable/modules/preprocessing.html\n",
      "Please also refer to the documentation for alternative solver options:\n",
      "    https://scikit-learn.org/stable/modules/linear_model.html#logistic-regression\n",
      "  n_iter_i = _check_optimize_result(\n"
     ]
    },
    {
     "name": "stdout",
     "output_type": "stream",
     "text": [
      "정확도: 0.8187889581478184\n",
      "\n",
      "\n",
      "[보팅의 Classification Report]\n",
      "Average F1-score:  0.82\n"
     ]
    }
   ],
   "source": [
    "# 보팅\n",
    "print(\"[보팅]\")\n",
    "voting_classifier = VotingClassifier(estimators=[\n",
    "         ('lr', LogisticRegression(C=10000, penalty='l2')),\n",
    "        ('cb', ComplementNB()),\n",
    "        ('grbt', GradientBoostingClassifier(random_state=0))\n",
    "], voting='soft', n_jobs=-1)\n",
    "voting_classifier.fit(tfidfv, y_train)\n",
    "\n",
    "predicted = voting_classifier.predict(tfidfv_test) #테스트 데이터에 대한 예측\n",
    "print(\"정확도:\", accuracy_score(y_test, predicted)) #예측값과 실제값 비교\n",
    "print(\"\\n\")\n",
    "print(\"[보팅의 Classification Report]\")\n",
    "\n",
    "report = classification_report(y_test,voting_classifier.predict(tfidfv_test))\n",
    "lines = report.split('\\n')\n",
    "average_line = lines[-4]\n",
    "average_data = average_line.split()\n",
    "\n",
    "# 추출된 average 데이터 출력\n",
    "print(\"Average F1-score: \", average_data[1])"
   ]
  },
  {
   "cell_type": "markdown",
   "id": "b574449b",
   "metadata": {},
   "source": [
    "### 2. 5000개 단어 사용"
   ]
  },
  {
   "cell_type": "code",
   "execution_count": 46,
   "id": "6b5d977c",
   "metadata": {},
   "outputs": [],
   "source": [
    "(x_train, y_train), (x_test, y_test) = reuters.load_data(num_words=5000, test_split=0.2)"
   ]
  },
  {
   "cell_type": "code",
   "execution_count": 47,
   "id": "fb175a44",
   "metadata": {},
   "outputs": [],
   "source": [
    "decoded = []\n",
    "for i in range(len(x_train)):\n",
    "    t = ' '.join([index_to_word[index] for index in x_train[i]])\n",
    "    decoded.append(t)\n",
    "\n",
    "x_train = decoded\n",
    "\n",
    "decoded = []\n",
    "for i in range(len(x_test)):\n",
    "    t = ' '.join([index_to_word[index] for index in x_test[i]])\n",
    "    decoded.append(t)\n",
    "\n",
    "x_test = decoded"
   ]
  },
  {
   "cell_type": "code",
   "execution_count": 48,
   "id": "1bf35774",
   "metadata": {},
   "outputs": [
    {
     "name": "stdout",
     "output_type": "stream",
     "text": [
      "(8982, 4867)\n",
      "(8982, 4867)\n"
     ]
    }
   ],
   "source": [
    "dtmvector = CountVectorizer()\n",
    "x_train_dtm = dtmvector.fit_transform(x_train)\n",
    "print(x_train_dtm.shape)\n",
    "\n",
    "tfidf_transformer = TfidfTransformer()\n",
    "tfidfv = tfidf_transformer.fit_transform(x_train_dtm)\n",
    "print(tfidfv.shape)"
   ]
  },
  {
   "cell_type": "code",
   "execution_count": 49,
   "id": "aed4a594",
   "metadata": {},
   "outputs": [],
   "source": [
    "x_test_dtm = dtmvector.transform(x_test) #테스트 데이터를 DTM으로 변환\n",
    "tfidfv_test = tfidf_transformer.transform(x_test_dtm) #DTM을 TF-IDF 행렬로 변환"
   ]
  },
  {
   "cell_type": "code",
   "execution_count": 50,
   "id": "7e0dee8b",
   "metadata": {},
   "outputs": [
    {
     "name": "stdout",
     "output_type": "stream",
     "text": [
      "[나이브 베이즈 분류기]\n",
      "- 정확도: 0.6731967943009796\n",
      "\n",
      "\n",
      "[나이브 베이즈 분류기의 Classification Report]\n",
      "Average F1-score:  0.67\n",
      "[CNB]\n",
      "정확도: 0.7707034728406055\n",
      "\n",
      "\n",
      "[CNB의 Classification Report]\n",
      "Average F1-score:  0.77\n",
      "[로지스틱 회귀]\n",
      "정확도: 0.8058771148708815\n",
      "\n",
      "\n",
      "[로지스틱 회귀의 Classification Report]\n",
      "Average F1-score:  0.81\n",
      "[서포트 벡터 머신]\n",
      "정확도: 0.7729296527159395\n",
      "\n",
      "\n",
      "[서포트 벡터 머신의 Classification Report]\n",
      "Average F1-score:  0.77\n",
      "[결정 트리]\n",
      "정확도: 0.6179875333926982\n",
      "\n",
      "\n",
      "[결정 트리의 Classification Report]\n",
      "Average F1-score:  0.62\n",
      "[랜덤 포레스트]\n",
      "정확도: 0.701246660730187\n",
      "\n",
      "\n",
      "[랜덤 포레스트의 Classification Report]\n",
      "Average F1-score:  0.70\n",
      "[그래디언트 부스팅 트리]\n",
      "정확도: 0.767586821015138\n",
      "\n",
      "\n",
      "[그래디언트 부스팅 트리의 Classification Report]\n",
      "Average F1-score:  0.77\n",
      "[보팅]\n"
     ]
    },
    {
     "name": "stderr",
     "output_type": "stream",
     "text": [
      "/opt/conda/lib/python3.9/site-packages/sklearn/linear_model/_logistic.py:814: ConvergenceWarning: lbfgs failed to converge (status=1):\n",
      "STOP: TOTAL NO. of ITERATIONS REACHED LIMIT.\n",
      "\n",
      "Increase the number of iterations (max_iter) or scale the data as shown in:\n",
      "    https://scikit-learn.org/stable/modules/preprocessing.html\n",
      "Please also refer to the documentation for alternative solver options:\n",
      "    https://scikit-learn.org/stable/modules/linear_model.html#logistic-regression\n",
      "  n_iter_i = _check_optimize_result(\n"
     ]
    },
    {
     "name": "stdout",
     "output_type": "stream",
     "text": [
      "정확도: 0.8161175422974176\n",
      "\n",
      "\n",
      "[보팅의 Classification Report]\n",
      "Average F1-score:  0.82\n"
     ]
    }
   ],
   "source": [
    "# 나이브 베이즈 분류기\n",
    "print(\"[나이브 베이즈 분류기]\")\n",
    "mod = MultinomialNB()\n",
    "mod.fit(tfidfv, y_train)\n",
    "\n",
    "predicted = mod.predict(tfidfv_test) #테스트 데이터에 대한 예측\n",
    "print(\"- 정확도:\", accuracy_score(y_test, predicted)) #예측값과 실제값 비교\n",
    "print(\"\\n\")\n",
    "print(\"[나이브 베이즈 분류기의 Classification Report]\")\n",
    "\n",
    "report = classification_report(y_test, mod.predict(tfidfv_test))\n",
    "lines = report.split('\\n')\n",
    "average_line = lines[-4]\n",
    "average_data = average_line.split()\n",
    "\n",
    "# 추출된 average 데이터 출력\n",
    "print(\"Average F1-score: \", average_data[1])\n",
    "\n",
    "# CNB\n",
    "print(\"[CNB]\")\n",
    "cb = ComplementNB()\n",
    "cb.fit(tfidfv, y_train)\n",
    "\n",
    "predicted = cb.predict(tfidfv_test) #테스트 데이터에 대한 예측\n",
    "print(\"정확도:\", accuracy_score(y_test, predicted)) #예측값과 실제값 비교\n",
    "print(\"\\n\")\n",
    "print(\"[CNB의 Classification Report]\")\n",
    "\n",
    "report = classification_report(y_test, cb.predict(tfidfv_test))\n",
    "lines = report.split('\\n')\n",
    "average_line = lines[-4]\n",
    "average_data = average_line.split()\n",
    "\n",
    "# 추출된 average 데이터 출력\n",
    "print(\"Average F1-score: \", average_data[1])\n",
    "\n",
    "# 로지스틱 회귀\n",
    "print(\"[로지스틱 회귀]\")\n",
    "lr = LogisticRegression(C=10000, penalty='l2')\n",
    "lr.fit(tfidfv, y_train)\n",
    "\n",
    "predicted = lr.predict(tfidfv_test) #테스트 데이터에 대한 예측\n",
    "print(\"정확도:\", accuracy_score(y_test, predicted)) #예측값과 실제값 비교\n",
    "print(\"\\n\")\n",
    "print(\"[로지스틱 회귀의 Classification Report]\")\n",
    "\n",
    "report = classification_report(y_test, lr.predict(tfidfv_test))\n",
    "lines = report.split('\\n')\n",
    "average_line = lines[-4]\n",
    "average_data = average_line.split()\n",
    "\n",
    "# 추출된 average 데이터 출력\n",
    "print(\"Average F1-score: \", average_data[1])\n",
    "\n",
    "# 서포트 벡터 머신\n",
    "print(\"[서포트 벡터 머신]\")\n",
    "lsvc = LinearSVC(C=1000, penalty='l1', max_iter=500, dual=False)\n",
    "lsvc.fit(tfidfv, y_train)\n",
    "\n",
    "predicted = lsvc.predict(tfidfv_test) #테스트 데이터에 대한 예측\n",
    "print(\"정확도:\", accuracy_score(y_test, predicted)) #예측값과 실제값 비교\n",
    "print(\"\\n\")\n",
    "print(\"[서포트 벡터 머신의 Classification Report]\")\n",
    "\n",
    "report = classification_report(y_test,lsvc.predict(tfidfv_test))\n",
    "lines = report.split('\\n')\n",
    "average_line = lines[-4]\n",
    "average_data = average_line.split()\n",
    "\n",
    "# 추출된 average 데이터 출력\n",
    "print(\"Average F1-score: \", average_data[1])\n",
    "\n",
    "# 결정 트리\n",
    "print(\"[결정 트리]\")\n",
    "tree = DecisionTreeClassifier(max_depth=10, random_state=0)\n",
    "tree.fit(tfidfv, y_train)\n",
    "\n",
    "predicted = tree.predict(tfidfv_test) #테스트 데이터에 대한 예측\n",
    "print(\"정확도:\", accuracy_score(y_test, predicted)) #예측값과 실제값 비교\n",
    "print(\"\\n\")\n",
    "print(\"[결정 트리의 Classification Report]\")\n",
    "\n",
    "report = classification_report(y_test,tree.predict(tfidfv_test))\n",
    "lines = report.split('\\n')\n",
    "average_line = lines[-4]\n",
    "average_data = average_line.split()\n",
    "\n",
    "# 추출된 average 데이터 출력\n",
    "print(\"Average F1-score: \", average_data[1])\n",
    "\n",
    "# 랜덤 포레스트\n",
    "print(\"[랜덤 포레스트]\")\n",
    "forest = RandomForestClassifier(n_estimators=5, random_state=0)\n",
    "forest.fit(tfidfv, y_train)\n",
    "\n",
    "predicted = forest.predict(tfidfv_test) #테스트 데이터에 대한 예측\n",
    "print(\"정확도:\", accuracy_score(y_test, predicted)) #예측값과 실제값 비교\n",
    "print(\"\\n\")\n",
    "print(\"[랜덤 포레스트의 Classification Report]\")\n",
    "\n",
    "report = classification_report(y_test,forest.predict(tfidfv_test))\n",
    "lines = report.split('\\n')\n",
    "average_line = lines[-4]\n",
    "average_data = average_line.split()\n",
    "\n",
    "# 추출된 average 데이터 출력\n",
    "print(\"Average F1-score: \", average_data[1])\n",
    "\n",
    "# 그래디언트 부스팅 트리\n",
    "print(\"[그래디언트 부스팅 트리]\")\n",
    "grbt = GradientBoostingClassifier(random_state=0) # verbose=3\n",
    "grbt.fit(tfidfv, y_train)\n",
    "\n",
    "predicted = grbt.predict(tfidfv_test) #테스트 데이터에 대한 예측\n",
    "print(\"정확도:\", accuracy_score(y_test, predicted)) #예측값과 실제값 비교\n",
    "print(\"\\n\")\n",
    "print(\"[그래디언트 부스팅 트리의 Classification Report]\")\n",
    "\n",
    "report = classification_report(y_test,grbt.predict(tfidfv_test))\n",
    "lines = report.split('\\n')\n",
    "average_line = lines[-4]\n",
    "average_data = average_line.split()\n",
    "\n",
    "# 추출된 average 데이터 출력\n",
    "print(\"Average F1-score: \", average_data[1])\n",
    "\n",
    "# 보팅\n",
    "print(\"[보팅]\")\n",
    "voting_classifier = VotingClassifier(estimators=[\n",
    "         ('lr', LogisticRegression(C=10000, penalty='l2')),\n",
    "        ('cb', ComplementNB()),\n",
    "        ('grbt', GradientBoostingClassifier(random_state=0))\n",
    "], voting='soft', n_jobs=-1)\n",
    "voting_classifier.fit(tfidfv, y_train)\n",
    "\n",
    "predicted = voting_classifier.predict(tfidfv_test) #테스트 데이터에 대한 예측\n",
    "print(\"정확도:\", accuracy_score(y_test, predicted)) #예측값과 실제값 비교\n",
    "print(\"\\n\")\n",
    "print(\"[보팅의 Classification Report]\")\n",
    "\n",
    "report = classification_report(y_test,voting_classifier.predict(tfidfv_test))\n",
    "lines = report.split('\\n')\n",
    "average_line = lines[-4]\n",
    "average_data = average_line.split()\n",
    "\n",
    "# 추출된 average 데이터 출력\n",
    "print(\"Average F1-score: \", average_data[1])"
   ]
  },
  {
   "cell_type": "markdown",
   "id": "764f55d7",
   "metadata": {},
   "source": [
    "### 3. 10000개 단어 사용"
   ]
  },
  {
   "cell_type": "code",
   "execution_count": 51,
   "id": "560a9f22",
   "metadata": {},
   "outputs": [],
   "source": [
    "(x_train, y_train), (x_test, y_test) = reuters.load_data(num_words=10000, test_split=0.2)"
   ]
  },
  {
   "cell_type": "code",
   "execution_count": 52,
   "id": "8bd7c169",
   "metadata": {},
   "outputs": [
    {
     "name": "stdout",
     "output_type": "stream",
     "text": [
      "(8982, 9670)\n",
      "(8982, 9670)\n"
     ]
    }
   ],
   "source": [
    "decoded= []\n",
    "for i in range(len(x_train)):\n",
    "    t = ' '.join([index_to_word[index] for index in x_train[i]])\n",
    "    decoded.append(t)\n",
    "\n",
    "x_train = decoded\n",
    "\n",
    "decoded = []\n",
    "for i in range(len(x_test)):\n",
    "    t = ' '.join([index_to_word[index] for index in x_test[i]])\n",
    "    decoded.append(t)\n",
    "\n",
    "x_test = decoded\n",
    "\n",
    "dtmvector = CountVectorizer()\n",
    "x_train_dtm = dtmvector.fit_transform(x_train)\n",
    "print(x_train_dtm.shape)\n",
    "\n",
    "tfidf_transformer = TfidfTransformer()\n",
    "tfidfv = tfidf_transformer.fit_transform(x_train_dtm)\n",
    "print(tfidfv.shape)\n",
    "\n",
    "x_test_dtm = dtmvector.transform(x_test) #테스트 데이터를 DTM으로 변환\n",
    "tfidfv_test = tfidf_transformer.transform(x_test_dtm) #DTM을 TF-IDF 행렬로 변환"
   ]
  },
  {
   "cell_type": "code",
   "execution_count": 53,
   "id": "613a18be",
   "metadata": {},
   "outputs": [
    {
     "name": "stdout",
     "output_type": "stream",
     "text": [
      "[나이브 베이즈 분류기]\n",
      "- 정확도: 0.6567230632235085\n",
      "\n",
      "\n",
      "[나이브 베이즈 분류기의 Classification Report]\n",
      "Average F1-score:  0.66\n",
      "[CNB]\n",
      "정확도: 0.7707034728406055\n",
      "\n",
      "\n",
      "[CNB의 Classification Report]\n",
      "Average F1-score:  0.77\n",
      "[로지스틱 회귀]\n",
      "정확도: 0.8076580587711487\n",
      "\n",
      "\n",
      "[로지스틱 회귀의 Classification Report]\n",
      "Average F1-score:  0.81\n",
      "[서포트 벡터 머신]\n",
      "정확도: 0.780053428317008\n",
      "\n",
      "\n",
      "[서포트 벡터 머신의 Classification Report]\n",
      "Average F1-score:  0.78\n",
      "[결정 트리]\n",
      "정확도: 0.6202137132680321\n",
      "\n",
      "\n",
      "[결정 트리의 Classification Report]\n",
      "Average F1-score:  0.62\n",
      "[랜덤 포레스트]\n",
      "정확도: 0.674087266251113\n",
      "\n",
      "\n",
      "[랜덤 포레스트의 Classification Report]\n",
      "Average F1-score:  0.67\n",
      "[그래디언트 부스팅 트리]\n",
      "정확도: 0.7662511130899377\n",
      "\n",
      "\n",
      "[그래디언트 부스팅 트리의 Classification Report]\n",
      "Average F1-score:  0.77\n",
      "[보팅]\n"
     ]
    },
    {
     "name": "stderr",
     "output_type": "stream",
     "text": [
      "/opt/conda/lib/python3.9/site-packages/sklearn/linear_model/_logistic.py:814: ConvergenceWarning: lbfgs failed to converge (status=1):\n",
      "STOP: TOTAL NO. of ITERATIONS REACHED LIMIT.\n",
      "\n",
      "Increase the number of iterations (max_iter) or scale the data as shown in:\n",
      "    https://scikit-learn.org/stable/modules/preprocessing.html\n",
      "Please also refer to the documentation for alternative solver options:\n",
      "    https://scikit-learn.org/stable/modules/linear_model.html#logistic-regression\n",
      "  n_iter_i = _check_optimize_result(\n"
     ]
    },
    {
     "name": "stdout",
     "output_type": "stream",
     "text": [
      "정확도: 0.8116651825467498\n",
      "\n",
      "\n",
      "[보팅의 Classification Report]\n",
      "Average F1-score:  0.81\n"
     ]
    }
   ],
   "source": [
    "# 나이브 베이즈 분류기\n",
    "print(\"[나이브 베이즈 분류기]\")\n",
    "mod = MultinomialNB()\n",
    "mod.fit(tfidfv, y_train)\n",
    "\n",
    "predicted = mod.predict(tfidfv_test) #테스트 데이터에 대한 예측\n",
    "print(\"- 정확도:\", accuracy_score(y_test, predicted)) #예측값과 실제값 비교\n",
    "print(\"\\n\")\n",
    "print(\"[나이브 베이즈 분류기의 Classification Report]\")\n",
    "\n",
    "report = classification_report(y_test, mod.predict(tfidfv_test))\n",
    "lines = report.split('\\n')\n",
    "average_line = lines[-4]\n",
    "average_data = average_line.split()\n",
    "\n",
    "# 추출된 average 데이터 출력\n",
    "print(\"Average F1-score: \", average_data[1])\n",
    "\n",
    "# CNB\n",
    "print(\"[CNB]\")\n",
    "cb = ComplementNB()\n",
    "cb.fit(tfidfv, y_train)\n",
    "\n",
    "predicted = cb.predict(tfidfv_test) #테스트 데이터에 대한 예측\n",
    "print(\"정확도:\", accuracy_score(y_test, predicted)) #예측값과 실제값 비교\n",
    "print(\"\\n\")\n",
    "print(\"[CNB의 Classification Report]\")\n",
    "\n",
    "report = classification_report(y_test, cb.predict(tfidfv_test))\n",
    "lines = report.split('\\n')\n",
    "average_line = lines[-4]\n",
    "average_data = average_line.split()\n",
    "\n",
    "# 추출된 average 데이터 출력\n",
    "print(\"Average F1-score: \", average_data[1])\n",
    "\n",
    "# 로지스틱 회귀\n",
    "print(\"[로지스틱 회귀]\")\n",
    "lr = LogisticRegression(C=10000, penalty='l2')\n",
    "lr.fit(tfidfv, y_train)\n",
    "\n",
    "predicted = lr.predict(tfidfv_test) #테스트 데이터에 대한 예측\n",
    "print(\"정확도:\", accuracy_score(y_test, predicted)) #예측값과 실제값 비교\n",
    "print(\"\\n\")\n",
    "print(\"[로지스틱 회귀의 Classification Report]\")\n",
    "\n",
    "report = classification_report(y_test, lr.predict(tfidfv_test))\n",
    "lines = report.split('\\n')\n",
    "average_line = lines[-4]\n",
    "average_data = average_line.split()\n",
    "\n",
    "# 추출된 average 데이터 출력\n",
    "print(\"Average F1-score: \", average_data[1])\n",
    "\n",
    "# 서포트 벡터 머신\n",
    "print(\"[서포트 벡터 머신]\")\n",
    "lsvc = LinearSVC(C=1000, penalty='l1', max_iter=500, dual=False)\n",
    "lsvc.fit(tfidfv, y_train)\n",
    "\n",
    "predicted = lsvc.predict(tfidfv_test) #테스트 데이터에 대한 예측\n",
    "print(\"정확도:\", accuracy_score(y_test, predicted)) #예측값과 실제값 비교\n",
    "print(\"\\n\")\n",
    "print(\"[서포트 벡터 머신의 Classification Report]\")\n",
    "\n",
    "report = classification_report(y_test,lsvc.predict(tfidfv_test))\n",
    "lines = report.split('\\n')\n",
    "average_line = lines[-4]\n",
    "average_data = average_line.split()\n",
    "\n",
    "# 추출된 average 데이터 출력\n",
    "print(\"Average F1-score: \", average_data[1])\n",
    "\n",
    "# 결정 트리\n",
    "print(\"[결정 트리]\")\n",
    "tree = DecisionTreeClassifier(max_depth=10, random_state=0)\n",
    "tree.fit(tfidfv, y_train)\n",
    "\n",
    "predicted = tree.predict(tfidfv_test) #테스트 데이터에 대한 예측\n",
    "print(\"정확도:\", accuracy_score(y_test, predicted)) #예측값과 실제값 비교\n",
    "print(\"\\n\")\n",
    "print(\"[결정 트리의 Classification Report]\")\n",
    "\n",
    "report = classification_report(y_test,tree.predict(tfidfv_test))\n",
    "lines = report.split('\\n')\n",
    "average_line = lines[-4]\n",
    "average_data = average_line.split()\n",
    "\n",
    "# 추출된 average 데이터 출력\n",
    "print(\"Average F1-score: \", average_data[1])\n",
    "\n",
    "# 랜덤 포레스트\n",
    "print(\"[랜덤 포레스트]\")\n",
    "forest = RandomForestClassifier(n_estimators=5, random_state=0)\n",
    "forest.fit(tfidfv, y_train)\n",
    "\n",
    "predicted = forest.predict(tfidfv_test) #테스트 데이터에 대한 예측\n",
    "print(\"정확도:\", accuracy_score(y_test, predicted)) #예측값과 실제값 비교\n",
    "print(\"\\n\")\n",
    "print(\"[랜덤 포레스트의 Classification Report]\")\n",
    "\n",
    "report = classification_report(y_test,forest.predict(tfidfv_test))\n",
    "lines = report.split('\\n')\n",
    "average_line = lines[-4]\n",
    "average_data = average_line.split()\n",
    "\n",
    "# 추출된 average 데이터 출력\n",
    "print(\"Average F1-score: \", average_data[1])\n",
    "\n",
    "# 그래디언트 부스팅 트리\n",
    "print(\"[그래디언트 부스팅 트리]\")\n",
    "grbt = GradientBoostingClassifier(random_state=0) # verbose=3\n",
    "grbt.fit(tfidfv, y_train)\n",
    "\n",
    "predicted = grbt.predict(tfidfv_test) #테스트 데이터에 대한 예측\n",
    "print(\"정확도:\", accuracy_score(y_test, predicted)) #예측값과 실제값 비교\n",
    "print(\"\\n\")\n",
    "print(\"[그래디언트 부스팅 트리의 Classification Report]\")\n",
    "\n",
    "report = classification_report(y_test,grbt.predict(tfidfv_test))\n",
    "lines = report.split('\\n')\n",
    "average_line = lines[-4]\n",
    "average_data = average_line.split()\n",
    "\n",
    "# 추출된 average 데이터 출력\n",
    "print(\"Average F1-score: \", average_data[1])\n",
    "\n",
    "# 보팅\n",
    "print(\"[보팅]\")\n",
    "voting_classifier = VotingClassifier(estimators=[\n",
    "         ('lr', LogisticRegression(C=10000, penalty='l2')),\n",
    "        ('cb', ComplementNB()),\n",
    "        ('grbt', GradientBoostingClassifier(random_state=0))\n",
    "], voting='soft', n_jobs=-1)\n",
    "voting_classifier.fit(tfidfv, y_train)\n",
    "\n",
    "predicted = voting_classifier.predict(tfidfv_test) #테스트 데이터에 대한 예측\n",
    "print(\"정확도:\", accuracy_score(y_test, predicted)) #예측값과 실제값 비교\n",
    "print(\"\\n\")\n",
    "print(\"[보팅의 Classification Report]\")\n",
    "\n",
    "report = classification_report(y_test,voting_classifier.predict(tfidfv_test))\n",
    "lines = report.split('\\n')\n",
    "average_line = lines[-4]\n",
    "average_data = average_line.split()\n",
    "\n",
    "# 추출된 average 데이터 출력\n",
    "print(\"Average F1-score: \", average_data[1])"
   ]
  },
  {
   "cell_type": "markdown",
   "id": "68b707f0",
   "metadata": {},
   "source": [
    "## 5. 딥러닝 모델학습"
   ]
  },
  {
   "cell_type": "code",
   "execution_count": 92,
   "id": "73c09b88",
   "metadata": {},
   "outputs": [],
   "source": [
    "(x_train, y_train), (x_test, y_test) = reuters.load_data(num_words=10000, test_split=0.2)"
   ]
  },
  {
   "cell_type": "code",
   "execution_count": 93,
   "id": "57396f62",
   "metadata": {},
   "outputs": [
    {
     "name": "stdout",
     "output_type": "stream",
     "text": [
      "(8982, 9670)\n",
      "(8982, 9670)\n"
     ]
    }
   ],
   "source": [
    "decoded= []\n",
    "for i in range(len(x_train)):\n",
    "    t = ' '.join([index_to_word[index] for index in x_train[i]])\n",
    "    decoded.append(t)\n",
    "\n",
    "x_train = decoded\n",
    "\n",
    "decoded = []\n",
    "for i in range(len(x_test)):\n",
    "    t = ' '.join([index_to_word[index] for index in x_test[i]])\n",
    "    decoded.append(t)\n",
    "\n",
    "x_test = decoded\n",
    "\n",
    "dtmvector = CountVectorizer()\n",
    "x_train_dtm = dtmvector.fit_transform(x_train)\n",
    "print(x_train_dtm.shape)\n",
    "\n",
    "tfidf_transformer = TfidfTransformer()\n",
    "tfidfv = tfidf_transformer.fit_transform(x_train_dtm)\n",
    "print(tfidfv.shape)\n",
    "\n",
    "x_test_dtm = dtmvector.transform(x_test) #테스트 데이터를 DTM으로 변환\n",
    "tfidfv_test = tfidf_transformer.transform(x_test_dtm) #DTM을 TF-IDF 행렬로 변환"
   ]
  },
  {
   "cell_type": "code",
   "execution_count": 94,
   "id": "19871b52",
   "metadata": {},
   "outputs": [],
   "source": [
    "import scipy\n",
    "from tensorflow.keras.utils import to_categorical\n",
    "\n",
    "tfidfv = scipy.sparse.csr_matrix.toarray(tfidfv)"
   ]
  },
  {
   "cell_type": "code",
   "execution_count": 95,
   "id": "10532b4d",
   "metadata": {},
   "outputs": [
    {
     "name": "stdout",
     "output_type": "stream",
     "text": [
      "(8982,)\n",
      "(2246,)\n"
     ]
    }
   ],
   "source": [
    "print(y_train.shape)\n",
    "print(y_test.shape)\n",
    "     \n",
    "y_train = to_categorical(y_train)\n",
    "y_test = to_categorical(y_test)\n",
    "     "
   ]
  },
  {
   "cell_type": "code",
   "execution_count": 74,
   "id": "ace30f48",
   "metadata": {},
   "outputs": [],
   "source": [
    "tfidfv_arr = tfidfv.toarray()\n",
    "tfidfv_dense = tfidfv.todense()"
   ]
  },
  {
   "cell_type": "code",
   "execution_count": 75,
   "id": "cb23b2a8",
   "metadata": {},
   "outputs": [],
   "source": [
    "tfidfv_test_arr = tfidfv_test.toarray()\n",
    "tfidfv_test_dense = tfidfv_test.todense()"
   ]
  },
  {
   "cell_type": "code",
   "execution_count": 96,
   "id": "8382e54a",
   "metadata": {},
   "outputs": [
    {
     "name": "stdout",
     "output_type": "stream",
     "text": [
      "Model: \"sequential_6\"\n",
      "_________________________________________________________________\n",
      "Layer (type)                 Output Shape              Param #   \n",
      "=================================================================\n",
      "embedding_6 (Embedding)      (None, None, 32)          320000    \n",
      "_________________________________________________________________\n",
      "lstm_6 (LSTM)                (None, 32)                8320      \n",
      "_________________________________________________________________\n",
      "dense_12 (Dense)             (None, 128)               4224      \n",
      "_________________________________________________________________\n",
      "dense_13 (Dense)             (None, 46)                5934      \n",
      "=================================================================\n",
      "Total params: 338,478\n",
      "Trainable params: 338,478\n",
      "Non-trainable params: 0\n",
      "_________________________________________________________________\n"
     ]
    }
   ],
   "source": [
    "from tensorflow import keras\n",
    "from tensorflow.keras.models import Sequential\n",
    "from tensorflow.keras.layers import Dense, LSTM, Embedding\n",
    "from tensorflow.keras.datasets import reuters\n",
    "\n",
    "vocab_size = 10000\n",
    "word_vector_dim = 32  \n",
    "\n",
    "model_LSTM = keras.Sequential()\n",
    "model_LSTM.add(keras.layers.Embedding(vocab_size, word_vector_dim))\n",
    "model_LSTM.add(keras.layers.LSTM(32))\n",
    "model_LSTM.add(keras.layers.Dense(128, activation='relu'))  \n",
    "model_LSTM.add(keras.layers.Dense(num_classes, activation='softmax'))  \n",
    "\n",
    "model_LSTM.summary()"
   ]
  },
  {
   "cell_type": "code",
   "execution_count": 97,
   "id": "c5101efb",
   "metadata": {},
   "outputs": [
    {
     "name": "stdout",
     "output_type": "stream",
     "text": [
      "Epoch 1/20\n",
      "57/57 [==============================] - 48s 282ms/step - loss: 0.3634 - accuracy: 0.0792 - val_loss: 0.0779 - val_accuracy: 0.3450\n",
      "Epoch 2/20\n",
      "57/57 [==============================] - 15s 268ms/step - loss: 0.0736 - accuracy: 0.3534 - val_loss: 0.0722 - val_accuracy: 0.3450\n",
      "Epoch 3/20\n",
      "57/57 [==============================] - 15s 268ms/step - loss: 0.0720 - accuracy: 0.3534 - val_loss: 0.0720 - val_accuracy: 0.3450\n",
      "Epoch 4/20\n",
      "57/57 [==============================] - 15s 268ms/step - loss: 0.0719 - accuracy: 0.3534 - val_loss: 0.0719 - val_accuracy: 0.3450\n",
      "Epoch 5/20\n",
      "57/57 [==============================] - 15s 268ms/step - loss: 0.0720 - accuracy: 0.3534 - val_loss: 0.0721 - val_accuracy: 0.3450\n",
      "Epoch 6/20\n",
      "57/57 [==============================] - 15s 268ms/step - loss: 0.0718 - accuracy: 0.3534 - val_loss: 0.0720 - val_accuracy: 0.3450\n",
      "Epoch 7/20\n",
      "57/57 [==============================] - 15s 270ms/step - loss: 0.0719 - accuracy: 0.3534 - val_loss: 0.0718 - val_accuracy: 0.3450\n",
      "Epoch 8/20\n",
      "57/57 [==============================] - 15s 268ms/step - loss: 0.0719 - accuracy: 0.3534 - val_loss: 0.0719 - val_accuracy: 0.3450\n",
      "Epoch 9/20\n",
      "57/57 [==============================] - 15s 267ms/step - loss: 0.0718 - accuracy: 0.3534 - val_loss: 0.0719 - val_accuracy: 0.3450\n",
      "Epoch 10/20\n",
      "57/57 [==============================] - 15s 268ms/step - loss: 0.0719 - accuracy: 0.3534 - val_loss: 0.0719 - val_accuracy: 0.3450\n",
      "Epoch 11/20\n",
      "57/57 [==============================] - 15s 268ms/step - loss: 0.0719 - accuracy: 0.3534 - val_loss: 0.0719 - val_accuracy: 0.3450\n",
      "Epoch 12/20\n",
      "57/57 [==============================] - 15s 266ms/step - loss: 0.0719 - accuracy: 0.3534 - val_loss: 0.0720 - val_accuracy: 0.3450\n",
      "Epoch 13/20\n",
      "57/57 [==============================] - 15s 265ms/step - loss: 0.0719 - accuracy: 0.3534 - val_loss: 0.0719 - val_accuracy: 0.3450\n",
      "Epoch 14/20\n",
      "57/57 [==============================] - 15s 265ms/step - loss: 0.0719 - accuracy: 0.3534 - val_loss: 0.0719 - val_accuracy: 0.3450\n",
      "Epoch 15/20\n",
      "57/57 [==============================] - 15s 269ms/step - loss: 0.0719 - accuracy: 0.3534 - val_loss: 0.0720 - val_accuracy: 0.3450\n",
      "Epoch 16/20\n",
      "57/57 [==============================] - 15s 266ms/step - loss: 0.0719 - accuracy: 0.3534 - val_loss: 0.0719 - val_accuracy: 0.3450\n",
      "Epoch 17/20\n",
      "57/57 [==============================] - 15s 267ms/step - loss: 0.0719 - accuracy: 0.3534 - val_loss: 0.0719 - val_accuracy: 0.3450\n",
      "Epoch 18/20\n",
      "57/57 [==============================] - 15s 267ms/step - loss: 0.0720 - accuracy: 0.3534 - val_loss: 0.0719 - val_accuracy: 0.3450\n",
      "Epoch 19/20\n",
      "57/57 [==============================] - 15s 266ms/step - loss: 0.0719 - accuracy: 0.3534 - val_loss: 0.0721 - val_accuracy: 0.3450\n",
      "Epoch 20/20\n",
      "57/57 [==============================] - 15s 268ms/step - loss: 0.0720 - accuracy: 0.3534 - val_loss: 0.0719 - val_accuracy: 0.3450\n"
     ]
    }
   ],
   "source": [
    "model_LSTM.compile(optimizer='adam',\n",
    "              loss='binary_crossentropy',\n",
    "              metrics=['accuracy'])\n",
    "\n",
    "history = model_LSTM.fit(tfidfv_arr,\n",
    "                    y_train,\n",
    "                    epochs=20,\n",
    "                    batch_size=128,\n",
    "                    validation_split=0.2,\n",
    "                    verbose=1)"
   ]
  },
  {
   "cell_type": "code",
   "execution_count": 98,
   "id": "da8b96fb",
   "metadata": {},
   "outputs": [
    {
     "name": "stdout",
     "output_type": "stream",
     "text": [
      "71/71 - 7s - loss: 0.0720 - accuracy: 0.3620\n",
      "[0.07201005518436432, 0.36197686195373535]\n"
     ]
    }
   ],
   "source": [
    "results = model_LSTM.evaluate(tfidfv_test_arr,  y_test, verbose=2)\n",
    "print(results)"
   ]
  },
  {
   "cell_type": "code",
   "execution_count": 99,
   "id": "d5729796",
   "metadata": {},
   "outputs": [],
   "source": [
    "def visualize_train(train_history):\n",
    "    # summarize history for accuracy\n",
    "    plt.plot(train_history.history['accuracy'])\n",
    "    plt.plot(train_history.history['val_accuracy'])\n",
    "    plt.title('accuracy')\n",
    "    plt.ylabel('accuracy')\n",
    "    plt.xlabel('epoch')\n",
    "    plt.legend(['train', 'val'], loc='upper left')\n",
    "    plt.show()\n",
    "    # summarize history for loss\n",
    "    plt.plot(train_history.history['loss'])\n",
    "    plt.plot(train_history.history['val_loss'])\n",
    "    plt.title('loss')\n",
    "    plt.ylabel('loss')\n",
    "    plt.xlabel('epoch')\n",
    "    plt.legend(['train', 'val'], loc='upper left')\n",
    "    plt.show()"
   ]
  },
  {
   "cell_type": "code",
   "execution_count": 101,
   "id": "cb6904d3",
   "metadata": {},
   "outputs": [
    {
     "data": {
      "image/png": "[encoded data removed]",
      "text/plain": [
       "<Figure size 432x288 with 1 Axes>"
      ]
     },
     "metadata": {
      "needs_background": "light"
     },
     "output_type": "display_data"
    },
    {
     "data": {
      "image/png": "[encoded data removed]",
      "text/plain": [
       "<Figure size 432x288 with 1 Axes>"
      ]
     },
     "metadata": {
      "needs_background": "light"
     },
     "output_type": "display_data"
    }
   ],
   "source": [
    "visualize_train(history)"
   ]
  },
  {
   "cell_type": "markdown",
   "id": "babf82d5",
   "metadata": {},
   "source": [
    "## 6. 결론"
   ]
  },
  {
   "cell_type": "markdown",
   "id": "5d06ff86",
   "metadata": {},
   "source": [
    "| 정확도 | 모든 단어 | 5000 | 10000 |\n",
    "|---|:---:|---:|---:|\n",
    "| 나이브 베이즈 분류기 | 0.6 | 0.67 | 0.66 |\n",
    "| CNB | 0.76 | 0.77 | 0.77 |\n",
    "| 로지스틱 회귀 | 0.81 | 0.81 | 0.81 |\n",
    "| 서포트 벡터 머신(SVM) | 0.78 | 0.77 | 0.78 |\n",
    "| 결정 트리 | 0.62 | 0.62 | 0.62 |\n",
    "| 랜덤 포레스트 | 0.65 | 0.70 | 0.67 |\n",
    "| 그래디언트 부스팅 트리 | 0.77 | 0.77 | 0.77 |\n",
    "| 보팅 | 0.82 | 0.82 | 0.81 |"
   ]
  },
  {
   "cell_type": "markdown",
   "id": "7f421359",
   "metadata": {},
   "source": [
    "훈련시간도 짧고\n",
    "\n",
    "그래디언트 부스팅 트리나 보팅만큼 정확도가 잘 나오기도 했고\n",
    "\n",
    "F1 점수도 높기 때문에 \n",
    "\n",
    "로지스틱 회귀가 가장 잘 나온 모델이라고 생각한다"
   ]
  }
 ],
 "metadata": {
  "kernelspec": {
   "display_name": "Python 3 (ipykernel)",
   "language": "python",
   "name": "python3"
  },
  "language_info": {
   "codemirror_mode": {
    "name": "ipython",
    "version": 3
   },
   "file_extension": ".py",
   "mimetype": "text/x-python",
   "name": "python",
   "nbconvert_exporter": "python",
   "pygments_lexer": "ipython3",
   "version": "3.9.7"
  }
 },
 "nbformat": 4,
 "nbformat_minor": 5
}
