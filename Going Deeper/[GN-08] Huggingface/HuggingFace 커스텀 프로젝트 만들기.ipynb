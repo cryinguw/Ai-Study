{
 "cells": [
  {
   "cell_type": "markdown",
   "id": "f6930eaf",
   "metadata": {},
   "source": [
    "# HuggingFace 커스텀 프로젝트 만들기"
   ]
  },
  {
   "cell_type": "markdown",
   "id": "4031c457",
   "metadata": {},
   "source": [
    "## 1. 모듈 import"
   ]
  },
  {
   "cell_type": "code",
   "execution_count": 1,
   "id": "06b5a54f",
   "metadata": {},
   "outputs": [],
   "source": [
    "import tensorflow as tf\n",
    "import numpy as np\n",
    "import pandas as pd\n",
    "import os,sys,copy,time\n",
    "import urllib\n",
    "\n",
    "# Hugging face\n",
    "import transformers\n",
    "from transformers import AutoModel, AutoTokenizer\n",
    "from transformers import AutoTokenizer, AutoModelForSequenceClassification, DataCollatorWithPadding\n",
    "import datasets\n",
    "from datasets import load_dataset"
   ]
  },
  {
   "cell_type": "code",
   "execution_count": 2,
   "id": "850b274d",
   "metadata": {},
   "outputs": [],
   "source": [
    "train1 = os.getenv('HOME')+'/aiffel/ratings_train.txt'\n",
    "test1 = os.getenv('HOME')+'/aiffel/ratings_test.txt'"
   ]
  },
  {
   "cell_type": "code",
   "execution_count": 3,
   "id": "b20a876c",
   "metadata": {},
   "outputs": [],
   "source": [
    "train = pd.read_table(train1)\n",
    "test = pd.read_table(test1)"
   ]
  },
  {
   "cell_type": "code",
   "execution_count": 4,
   "id": "fe5db7c3",
   "metadata": {
    "scrolled": true
   },
   "outputs": [
    {
     "data": {
      "text/html": [
       "<div>\n",
       "<style scoped>\n",
       "    .dataframe tbody tr th:only-of-type {\n",
       "        vertical-align: middle;\n",
       "    }\n",
       "\n",
       "    .dataframe tbody tr th {\n",
       "        vertical-align: top;\n",
       "    }\n",
       "\n",
       "    .dataframe thead th {\n",
       "        text-align: right;\n",
       "    }\n",
       "</style>\n",
       "<table border=\"1\" class=\"dataframe\">\n",
       "  <thead>\n",
       "    <tr style=\"text-align: right;\">\n",
       "      <th></th>\n",
       "      <th>id</th>\n",
       "      <th>document</th>\n",
       "      <th>label</th>\n",
       "    </tr>\n",
       "  </thead>\n",
       "  <tbody>\n",
       "    <tr>\n",
       "      <th>0</th>\n",
       "      <td>9976970</td>\n",
       "      <td>아 더빙.. 진짜 짜증나네요 목소리</td>\n",
       "      <td>0</td>\n",
       "    </tr>\n",
       "    <tr>\n",
       "      <th>1</th>\n",
       "      <td>3819312</td>\n",
       "      <td>흠...포스터보고 초딩영화줄....오버연기조차 가볍지 않구나</td>\n",
       "      <td>1</td>\n",
       "    </tr>\n",
       "    <tr>\n",
       "      <th>2</th>\n",
       "      <td>10265843</td>\n",
       "      <td>너무재밓었다그래서보는것을추천한다</td>\n",
       "      <td>0</td>\n",
       "    </tr>\n",
       "    <tr>\n",
       "      <th>3</th>\n",
       "      <td>9045019</td>\n",
       "      <td>교도소 이야기구먼 ..솔직히 재미는 없다..평점 조정</td>\n",
       "      <td>0</td>\n",
       "    </tr>\n",
       "    <tr>\n",
       "      <th>4</th>\n",
       "      <td>6483659</td>\n",
       "      <td>사이몬페그의 익살스런 연기가 돋보였던 영화!스파이더맨에서 늙어보이기만 했던 커스틴 ...</td>\n",
       "      <td>1</td>\n",
       "    </tr>\n",
       "  </tbody>\n",
       "</table>\n",
       "</div>"
      ],
      "text/plain": [
       "         id                                           document  label\n",
       "0   9976970                                아 더빙.. 진짜 짜증나네요 목소리      0\n",
       "1   3819312                  흠...포스터보고 초딩영화줄....오버연기조차 가볍지 않구나      1\n",
       "2  10265843                                  너무재밓었다그래서보는것을추천한다      0\n",
       "3   9045019                      교도소 이야기구먼 ..솔직히 재미는 없다..평점 조정      0\n",
       "4   6483659  사이몬페그의 익살스런 연기가 돋보였던 영화!스파이더맨에서 늙어보이기만 했던 커스틴 ...      1"
      ]
     },
     "execution_count": 4,
     "metadata": {},
     "output_type": "execute_result"
    }
   ],
   "source": [
    "train.head()"
   ]
  },
  {
   "cell_type": "code",
   "execution_count": 5,
   "id": "61a4ac52",
   "metadata": {},
   "outputs": [
    {
     "name": "stderr",
     "output_type": "stream",
     "text": [
      "Using custom data configuration default\n",
      "Reusing dataset nsmc (/aiffel/.cache/huggingface/datasets/nsmc/default/1.1.0/bfd4729bf1a67114e5267e6916b9e4807010aeb238e4a3c2b95fbfa3a014b5f3)\n"
     ]
    },
    {
     "data": {
      "application/vnd.jupyter.widget-view+json": {
       "model_id": "99a1b28d9a9e4e27b8e28b3b4dc31e8d",
       "version_major": 2,
       "version_minor": 0
      },
      "text/plain": [
       "  0%|          | 0/2 [00:00<?, ?it/s]"
      ]
     },
     "metadata": {},
     "output_type": "display_data"
    },
    {
     "name": "stdout",
     "output_type": "stream",
     "text": [
      "DatasetDict({\n",
      "    train: Dataset({\n",
      "        features: ['id', 'document', 'label'],\n",
      "        num_rows: 150000\n",
      "    })\n",
      "    test: Dataset({\n",
      "        features: ['id', 'document', 'label'],\n",
      "        num_rows: 50000\n",
      "    })\n",
      "})\n"
     ]
    }
   ],
   "source": [
    "huggingface_nsmc_dataset = load_dataset('nsmc')\n",
    "print(huggingface_nsmc_dataset)"
   ]
  },
  {
   "cell_type": "markdown",
   "id": "16334009",
   "metadata": {},
   "source": [
    "## 2. 토크나이저 생성"
   ]
  },
  {
   "cell_type": "code",
   "execution_count": 6,
   "id": "30274ae2",
   "metadata": {
    "scrolled": true
   },
   "outputs": [
    {
     "name": "stderr",
     "output_type": "stream",
     "text": [
      "Some weights of the model checkpoint at klue/bert-base were not used when initializing BertForSequenceClassification: ['cls.predictions.decoder.bias', 'cls.predictions.transform.LayerNorm.bias', 'cls.predictions.transform.dense.weight', 'cls.seq_relationship.weight', 'cls.predictions.bias', 'cls.predictions.transform.dense.bias', 'cls.seq_relationship.bias', 'cls.predictions.transform.LayerNorm.weight', 'cls.predictions.decoder.weight']\n",
      "- This IS expected if you are initializing BertForSequenceClassification from the checkpoint of a model trained on another task or with another architecture (e.g. initializing a BertForSequenceClassification model from a BertForPreTraining model).\n",
      "- This IS NOT expected if you are initializing BertForSequenceClassification from the checkpoint of a model that you expect to be exactly identical (initializing a BertForSequenceClassification model from a BertForSequenceClassification model).\n",
      "Some weights of BertForSequenceClassification were not initialized from the model checkpoint at klue/bert-base and are newly initialized: ['classifier.weight', 'classifier.bias']\n",
      "You should probably TRAIN this model on a down-stream task to be able to use it for predictions and inference.\n"
     ]
    }
   ],
   "source": [
    "tokenizer = AutoTokenizer.from_pretrained(\"klue/bert-base\")\n",
    "model = AutoModelForSequenceClassification.from_pretrained(\"klue/bert-base\", num_labels = 2)"
   ]
  },
  {
   "cell_type": "code",
   "execution_count": 7,
   "id": "a6783093",
   "metadata": {},
   "outputs": [
    {
     "name": "stdout",
     "output_type": "stream",
     "text": [
      "{'id': ['9976970', '3819312'], 'document': ['아 더빙.. 진짜 짜증나네요 목소리', '흠...포스터보고 초딩영화줄....오버연기조차 가볍지 않구나'], 'label': [0, 1]}\n",
      "{'input_ids': [[2, 1376, 831, 2604, 18, 18, 4229, 9801, 2075, 2203, 2182, 4243, 3], [2, 1963, 18, 18, 18, 11811, 2178, 2088, 28883, 16516, 2776, 18, 18, 18, 18, 10737, 2156, 2015, 2446, 2232, 6758, 2118, 1380, 6074, 3]], 'attention_mask': [[1, 1, 1, 1, 1, 1, 1, 1, 1, 1, 1, 1, 1], [1, 1, 1, 1, 1, 1, 1, 1, 1, 1, 1, 1, 1, 1, 1, 1, 1, 1, 1, 1, 1, 1, 1, 1, 1]]}\n"
     ]
    }
   ],
   "source": [
    "def transform(data):\n",
    "  return tokenizer(\n",
    "      data['document'],\n",
    "      truncation = True,\n",
    "      #padding = 'longest', #'max_length','longest', #'max_length',\n",
    "      return_token_type_ids = False,\n",
    "      )\n",
    "  \n",
    "examples = huggingface_nsmc_dataset['train'][:2]\n",
    "examples_transformed = transform(examples)\n",
    "\n",
    "print(examples)\n",
    "print(examples_transformed)"
   ]
  },
  {
   "cell_type": "code",
   "execution_count": 8,
   "id": "46de4628",
   "metadata": {},
   "outputs": [
    {
     "data": {
      "application/vnd.jupyter.widget-view+json": {
       "model_id": "1c8a9b0997b449938b95add66631b109",
       "version_major": 2,
       "version_minor": 0
      },
      "text/plain": [
       "  0%|          | 0/150 [00:00<?, ?ba/s]"
      ]
     },
     "metadata": {},
     "output_type": "display_data"
    },
    {
     "data": {
      "application/vnd.jupyter.widget-view+json": {
       "model_id": "528ad784d86f4266b8317d0eaf60cef7",
       "version_major": 2,
       "version_minor": 0
      },
      "text/plain": [
       "  0%|          | 0/50 [00:00<?, ?ba/s]"
      ]
     },
     "metadata": {},
     "output_type": "display_data"
    }
   ],
   "source": [
    "# 데이터 토크나이징 완료\n",
    "encoded_dataset = huggingface_nsmc_dataset.map(transform, batched=True)\n",
    "\n",
    "# 동적패딩: Bucketing \n",
    "data_collator = DataCollatorWithPadding(tokenizer=tokenizer)"
   ]
  },
  {
   "cell_type": "code",
   "execution_count": 9,
   "id": "37706374",
   "metadata": {},
   "outputs": [],
   "source": [
    "from datasets import load_metric\n",
    "metric = load_metric('glue', 'qnli')\n",
    "\n",
    "def compute_metrics(eval_pred):    \n",
    "    predictions,labels = eval_pred\n",
    "    print(predictions.shape, predictions)\n",
    "    predictions = np.argmax(predictions, axis=1)\n",
    "    print(predictions.shape, predictions)\n",
    "    return metric.compute(predictions=predictions, references = labels)"
   ]
  },
  {
   "cell_type": "markdown",
   "id": "6e0d5f81",
   "metadata": {},
   "source": [
    "## 3. 훈련 및 평가"
   ]
  },
  {
   "cell_type": "code",
   "execution_count": 10,
   "id": "36acf042",
   "metadata": {},
   "outputs": [],
   "source": [
    "# TrainingArguments 생성 : Trainer을 활용하는 형태로 모델 재생성\n",
    "from transformers import Trainer, TrainingArguments\n",
    "output_dir = os.getenv('HOME')+'/aiffel/hugging_face_transformers/output'\n",
    "metric_name = 'accuracy'\n",
    "\n",
    "training_arguments = TrainingArguments(\n",
    "    output_dir, # output이 저장될 경로\n",
    "    evaluation_strategy=\"steps\",              # \"epoch\", #evaluation하는 빈도\n",
    "    learning_rate = 0.001,                   #2e-5, #learning_rate   1e-3\n",
    "    per_device_train_batch_size = 512,      #64, #64, #16, # 각 device 당 batch size    512\n",
    "    per_device_eval_batch_size = 512,      #64, #64, #16, # evaluation 시에 batch size   512\n",
    "    num_train_epochs = 2,                  # train 시킬 총 epochs   20\n",
    "    weight_decay = 0.01,                   # weight decay\n",
    "    save_strategy=\"epoch\",                 # 저장은 epoch 마다\n",
    "    metric_for_best_model=metric_name,  \n",
    ")"
   ]
  },
  {
   "cell_type": "code",
   "execution_count": 11,
   "id": "8f25a3db",
   "metadata": {},
   "outputs": [],
   "source": [
    "trainer = Trainer(\n",
    "    model= model,                           # 학습시킬 model\n",
    "    args=training_arguments,                  # TrainingArguments을 통해 설정한 arguments\n",
    "    train_dataset=encoded_dataset['train'],    # training dataset\n",
    "    eval_dataset=encoded_dataset['test'],       # test dataset\n",
    "    compute_metrics=compute_metrics,\n",
    "    data_collator = data_collator,\n",
    "    tokenizer = tokenizer,\n",
    ")"
   ]
  },
  {
   "cell_type": "code",
   "execution_count": 12,
   "id": "143d42c9",
   "metadata": {},
   "outputs": [
    {
     "name": "stderr",
     "output_type": "stream",
     "text": [
      "The following columns in the evaluation set  don't have a corresponding argument in `BertForSequenceClassification.forward` and have been ignored: document, id.\n",
      "***** Running Evaluation *****\n",
      "  Num examples = 50000\n",
      "  Batch size = 512\n"
     ]
    },
    {
     "data": {
      "text/html": [
       "\n",
       "    <div>\n",
       "      \n",
       "      <progress value='98' max='98' style='width:300px; height:20px; vertical-align: middle;'></progress>\n",
       "      [98/98 04:58]\n",
       "    </div>\n",
       "    "
      ],
      "text/plain": [
       "<IPython.core.display.HTML object>"
      ]
     },
     "metadata": {},
     "output_type": "display_data"
    },
    {
     "name": "stdout",
     "output_type": "stream",
     "text": [
      "(50000, 2) [[ 0.3536646   0.13695504]\n",
      " [ 0.3748738  -0.00793599]\n",
      " [ 0.4523907  -0.15237457]\n",
      " ...\n",
      " [-0.06852636  0.20821825]\n",
      " [ 0.37208036  0.02408335]\n",
      " [ 0.38024706  0.29182684]]\n",
      "(50000,) [0 0 0 ... 1 0 0]\n"
     ]
    },
    {
     "data": {
      "text/plain": [
       "{'eval_loss': 0.6977577209472656,\n",
       " 'eval_accuracy': 0.51222,\n",
       " 'eval_runtime': 301.3266,\n",
       " 'eval_samples_per_second': 165.933,\n",
       " 'eval_steps_per_second': 0.325}"
      ]
     },
     "execution_count": 12,
     "metadata": {},
     "output_type": "execute_result"
    }
   ],
   "source": [
    "trainer.evaluate(encoded_dataset['test'])"
   ]
  },
  {
   "cell_type": "code",
   "execution_count": 13,
   "id": "c7656d9b",
   "metadata": {},
   "outputs": [
    {
     "name": "stderr",
     "output_type": "stream",
     "text": [
      "using `logging_steps` to initialize `eval_steps` to 500\n",
      "PyTorch: setting up devices\n",
      "The default value for the training argument `--report_to` will change in v5 (from all installed integrations to none). In v5, you will need to use `--report_to all` to get the same behavior as now. You should start updating your code and make this info disappear :-).\n"
     ]
    }
   ],
   "source": [
    "# TrainingArguments 생성 : Trainer을 활용하는 형태로 모델 재생성\n",
    "from transformers import Trainer, TrainingArguments\n",
    "output_dir = os.getenv('HOME')+'/aiffel/hugging_face_transformers/output'\n",
    "metric_name = 'accuracy'\n",
    "\n",
    "training_arguments = TrainingArguments(\n",
    "    output_dir, # output이 저장될 경로\n",
    "    evaluation_strategy=\"steps\",              # \"epoch\", #evaluation하는 빈도\n",
    "    learning_rate = 2e-5,                    #learning_rate   1e-3\n",
    "    per_device_train_batch_size = 16,      #64, #64, #16, # 각 device 당 batch size    512\n",
    "    per_device_eval_batch_size = 16,      #64, #64, #16, # evaluation 시에 batch size   512\n",
    "    num_train_epochs = 2,                  # train 시킬 총 epochs   20\n",
    "    weight_decay = 0.01,                   # weight decay\n",
    "    save_strategy=\"epoch\",                 # 저장은 epoch 마다\n",
    "    metric_for_best_model=metric_name,  \n",
    ")"
   ]
  },
  {
   "cell_type": "code",
   "execution_count": 14,
   "id": "f13c6149",
   "metadata": {},
   "outputs": [],
   "source": [
    "trainer = Trainer(\n",
    "    model= model,                           # 학습시킬 model\n",
    "    args=training_arguments,                  # TrainingArguments을 통해 설정한 arguments\n",
    "    train_dataset=encoded_dataset['train'],    # training dataset\n",
    "    eval_dataset=encoded_dataset['test'],       # test dataset\n",
    "    compute_metrics=compute_metrics,\n",
    "    data_collator = data_collator,\n",
    "    tokenizer = tokenizer,\n",
    ")"
   ]
  },
  {
   "cell_type": "code",
   "execution_count": 15,
   "id": "e7a2baa6",
   "metadata": {},
   "outputs": [
    {
     "name": "stderr",
     "output_type": "stream",
     "text": [
      "The following columns in the training set  don't have a corresponding argument in `BertForSequenceClassification.forward` and have been ignored: document, id.\n",
      "***** Running training *****\n",
      "  Num examples = 150000\n",
      "  Num Epochs = 2\n",
      "  Instantaneous batch size per device = 16\n",
      "  Total train batch size (w. parallel, distributed & accumulation) = 16\n",
      "  Gradient Accumulation steps = 1\n",
      "  Total optimization steps = 18750\n"
     ]
    },
    {
     "data": {
      "text/html": [
       "\n",
       "    <div>\n",
       "      \n",
       "      <progress value='18750' max='18750' style='width:300px; height:20px; vertical-align: middle;'></progress>\n",
       "      [18750/18750 3:19:31, Epoch 2/2]\n",
       "    </div>\n",
       "    <table border=\"1\" class=\"dataframe\">\n",
       "  <thead>\n",
       "    <tr style=\"text-align: left;\">\n",
       "      <th>Step</th>\n",
       "      <th>Training Loss</th>\n",
       "      <th>Validation Loss</th>\n",
       "      <th>Accuracy</th>\n",
       "    </tr>\n",
       "  </thead>\n",
       "  <tbody>\n",
       "    <tr>\n",
       "      <td>500</td>\n",
       "      <td>0.382300</td>\n",
       "      <td>0.316742</td>\n",
       "      <td>0.865000</td>\n",
       "    </tr>\n",
       "    <tr>\n",
       "      <td>1000</td>\n",
       "      <td>0.316600</td>\n",
       "      <td>0.298721</td>\n",
       "      <td>0.875000</td>\n",
       "    </tr>\n",
       "    <tr>\n",
       "      <td>1500</td>\n",
       "      <td>0.300200</td>\n",
       "      <td>0.347037</td>\n",
       "      <td>0.866260</td>\n",
       "    </tr>\n",
       "    <tr>\n",
       "      <td>2000</td>\n",
       "      <td>0.284400</td>\n",
       "      <td>0.288353</td>\n",
       "      <td>0.881920</td>\n",
       "    </tr>\n",
       "    <tr>\n",
       "      <td>2500</td>\n",
       "      <td>0.293100</td>\n",
       "      <td>0.291645</td>\n",
       "      <td>0.876720</td>\n",
       "    </tr>\n",
       "    <tr>\n",
       "      <td>3000</td>\n",
       "      <td>0.283900</td>\n",
       "      <td>0.267559</td>\n",
       "      <td>0.888980</td>\n",
       "    </tr>\n",
       "    <tr>\n",
       "      <td>3500</td>\n",
       "      <td>0.278000</td>\n",
       "      <td>0.321031</td>\n",
       "      <td>0.876940</td>\n",
       "    </tr>\n",
       "    <tr>\n",
       "      <td>4000</td>\n",
       "      <td>0.280700</td>\n",
       "      <td>0.279730</td>\n",
       "      <td>0.887620</td>\n",
       "    </tr>\n",
       "    <tr>\n",
       "      <td>4500</td>\n",
       "      <td>0.274100</td>\n",
       "      <td>0.277605</td>\n",
       "      <td>0.886080</td>\n",
       "    </tr>\n",
       "    <tr>\n",
       "      <td>5000</td>\n",
       "      <td>0.261300</td>\n",
       "      <td>0.264133</td>\n",
       "      <td>0.896860</td>\n",
       "    </tr>\n",
       "    <tr>\n",
       "      <td>5500</td>\n",
       "      <td>0.256000</td>\n",
       "      <td>0.264503</td>\n",
       "      <td>0.896740</td>\n",
       "    </tr>\n",
       "    <tr>\n",
       "      <td>6000</td>\n",
       "      <td>0.263300</td>\n",
       "      <td>0.255161</td>\n",
       "      <td>0.896560</td>\n",
       "    </tr>\n",
       "    <tr>\n",
       "      <td>6500</td>\n",
       "      <td>0.254300</td>\n",
       "      <td>0.269955</td>\n",
       "      <td>0.897560</td>\n",
       "    </tr>\n",
       "    <tr>\n",
       "      <td>7000</td>\n",
       "      <td>0.260500</td>\n",
       "      <td>0.260875</td>\n",
       "      <td>0.900200</td>\n",
       "    </tr>\n",
       "    <tr>\n",
       "      <td>7500</td>\n",
       "      <td>0.274000</td>\n",
       "      <td>0.241241</td>\n",
       "      <td>0.901020</td>\n",
       "    </tr>\n",
       "    <tr>\n",
       "      <td>8000</td>\n",
       "      <td>0.260200</td>\n",
       "      <td>0.257818</td>\n",
       "      <td>0.900160</td>\n",
       "    </tr>\n",
       "    <tr>\n",
       "      <td>8500</td>\n",
       "      <td>0.253000</td>\n",
       "      <td>0.257117</td>\n",
       "      <td>0.900600</td>\n",
       "    </tr>\n",
       "    <tr>\n",
       "      <td>9000</td>\n",
       "      <td>0.256500</td>\n",
       "      <td>0.237378</td>\n",
       "      <td>0.902140</td>\n",
       "    </tr>\n",
       "    <tr>\n",
       "      <td>9500</td>\n",
       "      <td>0.227400</td>\n",
       "      <td>0.287444</td>\n",
       "      <td>0.903620</td>\n",
       "    </tr>\n",
       "    <tr>\n",
       "      <td>10000</td>\n",
       "      <td>0.192400</td>\n",
       "      <td>0.291255</td>\n",
       "      <td>0.904320</td>\n",
       "    </tr>\n",
       "    <tr>\n",
       "      <td>10500</td>\n",
       "      <td>0.199000</td>\n",
       "      <td>0.294434</td>\n",
       "      <td>0.904440</td>\n",
       "    </tr>\n",
       "    <tr>\n",
       "      <td>11000</td>\n",
       "      <td>0.177000</td>\n",
       "      <td>0.307879</td>\n",
       "      <td>0.902680</td>\n",
       "    </tr>\n",
       "    <tr>\n",
       "      <td>11500</td>\n",
       "      <td>0.193400</td>\n",
       "      <td>0.304167</td>\n",
       "      <td>0.898340</td>\n",
       "    </tr>\n",
       "    <tr>\n",
       "      <td>12000</td>\n",
       "      <td>0.185600</td>\n",
       "      <td>0.285408</td>\n",
       "      <td>0.904280</td>\n",
       "    </tr>\n",
       "    <tr>\n",
       "      <td>12500</td>\n",
       "      <td>0.181300</td>\n",
       "      <td>0.290567</td>\n",
       "      <td>0.904100</td>\n",
       "    </tr>\n",
       "    <tr>\n",
       "      <td>13000</td>\n",
       "      <td>0.178800</td>\n",
       "      <td>0.318203</td>\n",
       "      <td>0.904400</td>\n",
       "    </tr>\n",
       "    <tr>\n",
       "      <td>13500</td>\n",
       "      <td>0.197400</td>\n",
       "      <td>0.275849</td>\n",
       "      <td>0.904360</td>\n",
       "    </tr>\n",
       "    <tr>\n",
       "      <td>14000</td>\n",
       "      <td>0.171600</td>\n",
       "      <td>0.286664</td>\n",
       "      <td>0.904800</td>\n",
       "    </tr>\n",
       "    <tr>\n",
       "      <td>14500</td>\n",
       "      <td>0.188100</td>\n",
       "      <td>0.276537</td>\n",
       "      <td>0.905140</td>\n",
       "    </tr>\n",
       "    <tr>\n",
       "      <td>15000</td>\n",
       "      <td>0.174300</td>\n",
       "      <td>0.296438</td>\n",
       "      <td>0.905340</td>\n",
       "    </tr>\n",
       "    <tr>\n",
       "      <td>15500</td>\n",
       "      <td>0.178800</td>\n",
       "      <td>0.277625</td>\n",
       "      <td>0.905460</td>\n",
       "    </tr>\n",
       "    <tr>\n",
       "      <td>16000</td>\n",
       "      <td>0.175800</td>\n",
       "      <td>0.283747</td>\n",
       "      <td>0.905080</td>\n",
       "    </tr>\n",
       "    <tr>\n",
       "      <td>16500</td>\n",
       "      <td>0.173500</td>\n",
       "      <td>0.285223</td>\n",
       "      <td>0.905880</td>\n",
       "    </tr>\n",
       "    <tr>\n",
       "      <td>17000</td>\n",
       "      <td>0.175600</td>\n",
       "      <td>0.290372</td>\n",
       "      <td>0.906300</td>\n",
       "    </tr>\n",
       "    <tr>\n",
       "      <td>17500</td>\n",
       "      <td>0.166700</td>\n",
       "      <td>0.290834</td>\n",
       "      <td>0.906800</td>\n",
       "    </tr>\n",
       "    <tr>\n",
       "      <td>18000</td>\n",
       "      <td>0.175700</td>\n",
       "      <td>0.288977</td>\n",
       "      <td>0.907580</td>\n",
       "    </tr>\n",
       "    <tr>\n",
       "      <td>18500</td>\n",
       "      <td>0.174600</td>\n",
       "      <td>0.286714</td>\n",
       "      <td>0.906760</td>\n",
       "    </tr>\n",
       "  </tbody>\n",
       "</table><p>"
      ],
      "text/plain": [
       "<IPython.core.display.HTML object>"
      ]
     },
     "metadata": {},
     "output_type": "display_data"
    },
    {
     "name": "stderr",
     "output_type": "stream",
     "text": [
      "The following columns in the evaluation set  don't have a corresponding argument in `BertForSequenceClassification.forward` and have been ignored: document, id.\n",
      "***** Running Evaluation *****\n",
      "  Num examples = 50000\n",
      "  Batch size = 16\n"
     ]
    },
    {
     "name": "stdout",
     "output_type": "stream",
     "text": [
      "(50000, 2) [[-1.3226981   1.5576096 ]\n",
      " [ 0.47015467  0.12922174]\n",
      " [-0.16868162 -0.86988676]\n",
      " ...\n",
      " [ 0.8387326  -1.1134475 ]\n",
      " [ 2.4216716  -2.767542  ]\n",
      " [ 1.3505646  -1.2666966 ]]\n",
      "(50000,) [1 0 0 ... 0 0 0]\n"
     ]
    },
    {
     "name": "stderr",
     "output_type": "stream",
     "text": [
      "The following columns in the evaluation set  don't have a corresponding argument in `BertForSequenceClassification.forward` and have been ignored: document, id.\n",
      "***** Running Evaluation *****\n",
      "  Num examples = 50000\n",
      "  Batch size = 16\n"
     ]
    },
    {
     "name": "stdout",
     "output_type": "stream",
     "text": [
      "(50000, 2) [[-1.194687    1.5615238 ]\n",
      " [ 0.4478849   0.02146624]\n",
      " [-0.03245687 -0.80478597]\n",
      " ...\n",
      " [ 0.24770191 -0.86740017]\n",
      " [ 2.3757906  -2.7244272 ]\n",
      " [ 0.49460283 -0.45395628]]\n",
      "(50000,) [1 0 0 ... 0 0 0]\n"
     ]
    },
    {
     "name": "stderr",
     "output_type": "stream",
     "text": [
      "The following columns in the evaluation set  don't have a corresponding argument in `BertForSequenceClassification.forward` and have been ignored: document, id.\n",
      "***** Running Evaluation *****\n",
      "  Num examples = 50000\n",
      "  Batch size = 16\n"
     ]
    },
    {
     "name": "stdout",
     "output_type": "stream",
     "text": [
      "(50000, 2) [[-1.5982176   1.8831034 ]\n",
      " [ 0.51068693 -0.14431214]\n",
      " [ 1.4019889  -1.9242096 ]\n",
      " ...\n",
      " [ 2.282714   -2.9479039 ]\n",
      " [ 3.119944   -3.2582142 ]\n",
      " [ 1.5118806  -1.6828741 ]]\n",
      "(50000,) [1 0 0 ... 0 0 0]\n"
     ]
    },
    {
     "name": "stderr",
     "output_type": "stream",
     "text": [
      "The following columns in the evaluation set  don't have a corresponding argument in `BertForSequenceClassification.forward` and have been ignored: document, id.\n",
      "***** Running Evaluation *****\n",
      "  Num examples = 50000\n",
      "  Batch size = 16\n"
     ]
    },
    {
     "name": "stdout",
     "output_type": "stream",
     "text": [
      "(50000, 2) [[-1.6380533   2.0347307 ]\n",
      " [ 0.3756262  -0.039908  ]\n",
      " [-0.17175047 -0.98410445]\n",
      " ...\n",
      " [ 0.63952744 -1.5587982 ]\n",
      " [ 2.7453902  -3.2448468 ]\n",
      " [ 0.23030525 -0.5460899 ]]\n",
      "(50000,) [1 0 0 ... 0 0 0]\n"
     ]
    },
    {
     "name": "stderr",
     "output_type": "stream",
     "text": [
      "The following columns in the evaluation set  don't have a corresponding argument in `BertForSequenceClassification.forward` and have been ignored: document, id.\n",
      "***** Running Evaluation *****\n",
      "  Num examples = 50000\n",
      "  Batch size = 16\n"
     ]
    },
    {
     "name": "stdout",
     "output_type": "stream",
     "text": [
      "(50000, 2) [[-1.7809902   2.3022854 ]\n",
      " [ 0.01993692  0.32855216]\n",
      " [-0.36667597 -0.21270259]\n",
      " ...\n",
      " [ 0.25963578 -0.7377296 ]\n",
      " [ 2.3413978  -2.8138046 ]\n",
      " [ 0.27618748 -0.28823334]]\n",
      "(50000,) [1 1 1 ... 0 0 0]\n"
     ]
    },
    {
     "name": "stderr",
     "output_type": "stream",
     "text": [
      "The following columns in the evaluation set  don't have a corresponding argument in `BertForSequenceClassification.forward` and have been ignored: document, id.\n",
      "***** Running Evaluation *****\n",
      "  Num examples = 50000\n",
      "  Batch size = 16\n"
     ]
    },
    {
     "name": "stdout",
     "output_type": "stream",
     "text": [
      "(50000, 2) [[-1.0279098   1.7240653 ]\n",
      " [ 0.07063915  0.22264719]\n",
      " [ 0.1558031  -0.7640131 ]\n",
      " ...\n",
      " [ 0.45037407 -1.021008  ]\n",
      " [ 2.3946934  -2.801915  ]\n",
      " [ 0.9005351  -0.94992405]]\n",
      "(50000,) [1 1 0 ... 0 0 0]\n"
     ]
    },
    {
     "name": "stderr",
     "output_type": "stream",
     "text": [
      "The following columns in the evaluation set  don't have a corresponding argument in `BertForSequenceClassification.forward` and have been ignored: document, id.\n",
      "***** Running Evaluation *****\n",
      "  Num examples = 50000\n",
      "  Batch size = 16\n"
     ]
    },
    {
     "name": "stdout",
     "output_type": "stream",
     "text": [
      "(50000, 2) [[-1.3796384   2.3327792 ]\n",
      " [-0.48556557  1.0796227 ]\n",
      " [-0.33935088 -0.41027078]\n",
      " ...\n",
      " [ 0.09428083 -0.69850314]\n",
      " [ 3.0410097  -3.224456  ]\n",
      " [ 1.1150961  -1.3213358 ]]\n",
      "(50000,) [1 1 0 ... 0 0 0]\n"
     ]
    },
    {
     "name": "stderr",
     "output_type": "stream",
     "text": [
      "The following columns in the evaluation set  don't have a corresponding argument in `BertForSequenceClassification.forward` and have been ignored: document, id.\n",
      "***** Running Evaluation *****\n",
      "  Num examples = 50000\n",
      "  Batch size = 16\n"
     ]
    },
    {
     "name": "stdout",
     "output_type": "stream",
     "text": [
      "(50000, 2) [[-1.6902586   1.9248221 ]\n",
      " [-0.26261452  0.7337987 ]\n",
      " [-0.32128575 -0.35336655]\n",
      " ...\n",
      " [ 0.32770562 -1.047807  ]\n",
      " [ 2.9421837  -3.1723409 ]\n",
      " [ 0.06829955 -0.04109202]]\n",
      "(50000,) [1 1 0 ... 0 0 0]\n"
     ]
    },
    {
     "name": "stderr",
     "output_type": "stream",
     "text": [
      "The following columns in the evaluation set  don't have a corresponding argument in `BertForSequenceClassification.forward` and have been ignored: document, id.\n",
      "***** Running Evaluation *****\n",
      "  Num examples = 50000\n",
      "  Batch size = 16\n"
     ]
    },
    {
     "name": "stdout",
     "output_type": "stream",
     "text": [
      "(50000, 2) [[-2.1501994   2.7736313 ]\n",
      " [-0.11168169  0.51073444]\n",
      " [ 0.8819972  -1.5057081 ]\n",
      " ...\n",
      " [ 1.2785295  -1.8749967 ]\n",
      " [ 3.0901206  -3.2849255 ]\n",
      " [ 1.0922989  -0.8413526 ]]\n",
      "(50000,) [1 1 0 ... 0 0 0]\n"
     ]
    },
    {
     "name": "stderr",
     "output_type": "stream",
     "text": [
      "The following columns in the evaluation set  don't have a corresponding argument in `BertForSequenceClassification.forward` and have been ignored: document, id.\n",
      "***** Running Evaluation *****\n",
      "  Num examples = 50000\n",
      "  Batch size = 16\n"
     ]
    },
    {
     "name": "stdout",
     "output_type": "stream",
     "text": [
      "(50000, 2) [[-1.9093903   2.54092   ]\n",
      " [-0.48958576  1.2931406 ]\n",
      " [ 0.13939212 -0.9613981 ]\n",
      " ...\n",
      " [ 0.44101337 -0.8155441 ]\n",
      " [ 2.9148898  -3.06254   ]\n",
      " [ 1.1386117  -0.8990127 ]]\n",
      "(50000,) [1 1 0 ... 0 0 0]\n"
     ]
    },
    {
     "name": "stderr",
     "output_type": "stream",
     "text": [
      "The following columns in the evaluation set  don't have a corresponding argument in `BertForSequenceClassification.forward` and have been ignored: document, id.\n",
      "***** Running Evaluation *****\n",
      "  Num examples = 50000\n",
      "  Batch size = 16\n"
     ]
    },
    {
     "name": "stdout",
     "output_type": "stream",
     "text": [
      "(50000, 2) [[-2.1112401   2.5037355 ]\n",
      " [-0.24110657  0.75206757]\n",
      " [ 0.3457529  -1.4933429 ]\n",
      " ...\n",
      " [ 1.7682297  -2.5055962 ]\n",
      " [ 3.0211275  -3.2745883 ]\n",
      " [ 0.8028887  -0.99554545]]\n",
      "(50000,) [1 1 0 ... 0 0 0]\n"
     ]
    },
    {
     "name": "stderr",
     "output_type": "stream",
     "text": [
      "The following columns in the evaluation set  don't have a corresponding argument in `BertForSequenceClassification.forward` and have been ignored: document, id.\n",
      "***** Running Evaluation *****\n",
      "  Num examples = 50000\n",
      "  Batch size = 16\n"
     ]
    },
    {
     "name": "stdout",
     "output_type": "stream",
     "text": [
      "(50000, 2) [[-1.6554493   1.8227468 ]\n",
      " [-0.29952914  0.7185249 ]\n",
      " [ 0.66576546 -1.7112707 ]\n",
      " ...\n",
      " [ 1.0167812  -1.8458428 ]\n",
      " [ 2.3423374  -2.8684928 ]\n",
      " [ 0.29713282 -0.7598111 ]]\n",
      "(50000,) [1 1 0 ... 0 0 0]\n"
     ]
    },
    {
     "name": "stderr",
     "output_type": "stream",
     "text": [
      "The following columns in the evaluation set  don't have a corresponding argument in `BertForSequenceClassification.forward` and have been ignored: document, id.\n",
      "***** Running Evaluation *****\n",
      "  Num examples = 50000\n",
      "  Batch size = 16\n"
     ]
    },
    {
     "name": "stdout",
     "output_type": "stream",
     "text": [
      "(50000, 2) [[-1.8616731   2.5283155 ]\n",
      " [-0.22838373  0.75383013]\n",
      " [ 0.53713155 -1.5506343 ]\n",
      " ...\n",
      " [ 1.3379229  -2.1424932 ]\n",
      " [ 2.6819768  -3.1687756 ]\n",
      " [-0.11113081 -0.19777954]]\n",
      "(50000,) [1 1 0 ... 0 0 0]\n"
     ]
    },
    {
     "name": "stderr",
     "output_type": "stream",
     "text": [
      "The following columns in the evaluation set  don't have a corresponding argument in `BertForSequenceClassification.forward` and have been ignored: document, id.\n",
      "***** Running Evaluation *****\n",
      "  Num examples = 50000\n",
      "  Batch size = 16\n"
     ]
    },
    {
     "name": "stdout",
     "output_type": "stream",
     "text": [
      "(50000, 2) [[-1.6418463   2.375093  ]\n",
      " [ 0.11145958  0.3532473 ]\n",
      " [ 0.79966813 -1.7486546 ]\n",
      " ...\n",
      " [ 0.50563276 -1.3980007 ]\n",
      " [ 2.7259874  -3.171922  ]\n",
      " [ 0.53259146 -0.91028124]]\n",
      "(50000,) [1 1 0 ... 0 0 0]\n"
     ]
    },
    {
     "name": "stderr",
     "output_type": "stream",
     "text": [
      "The following columns in the evaluation set  don't have a corresponding argument in `BertForSequenceClassification.forward` and have been ignored: document, id.\n",
      "***** Running Evaluation *****\n",
      "  Num examples = 50000\n",
      "  Batch size = 16\n"
     ]
    },
    {
     "name": "stdout",
     "output_type": "stream",
     "text": [
      "(50000, 2) [[-1.4518179   2.0760083 ]\n",
      " [ 0.02258695  0.35604054]\n",
      " [ 0.4450873  -1.2586132 ]\n",
      " ...\n",
      " [-0.4843872  -0.11420755]\n",
      " [ 2.289786   -2.7472858 ]\n",
      " [ 0.8167892  -1.0940466 ]]\n",
      "(50000,) [1 1 0 ... 1 0 0]\n"
     ]
    },
    {
     "name": "stderr",
     "output_type": "stream",
     "text": [
      "The following columns in the evaluation set  don't have a corresponding argument in `BertForSequenceClassification.forward` and have been ignored: document, id.\n",
      "***** Running Evaluation *****\n",
      "  Num examples = 50000\n",
      "  Batch size = 16\n"
     ]
    },
    {
     "name": "stdout",
     "output_type": "stream",
     "text": [
      "(50000, 2) [[-1.7106395   2.3355558 ]\n",
      " [-0.40344766  1.0613755 ]\n",
      " [ 0.9716669  -1.6602943 ]\n",
      " ...\n",
      " [ 0.5842584  -1.2507491 ]\n",
      " [ 2.9984672  -3.230086  ]\n",
      " [ 1.0158728  -1.0145298 ]]\n",
      "(50000,) [1 1 0 ... 0 0 0]\n"
     ]
    },
    {
     "name": "stderr",
     "output_type": "stream",
     "text": [
      "The following columns in the evaluation set  don't have a corresponding argument in `BertForSequenceClassification.forward` and have been ignored: document, id.\n",
      "***** Running Evaluation *****\n",
      "  Num examples = 50000\n",
      "  Batch size = 16\n"
     ]
    },
    {
     "name": "stdout",
     "output_type": "stream",
     "text": [
      "(50000, 2) [[-1.9609308   2.6716597 ]\n",
      " [-0.3895571   0.84733224]\n",
      " [ 1.1033995  -2.0431955 ]\n",
      " ...\n",
      " [ 0.03028924 -0.83643186]\n",
      " [ 2.5532525  -3.1679943 ]\n",
      " [ 0.76262784 -1.0176846 ]]\n",
      "(50000,) [1 1 0 ... 0 0 0]\n"
     ]
    },
    {
     "name": "stderr",
     "output_type": "stream",
     "text": [
      "The following columns in the evaluation set  don't have a corresponding argument in `BertForSequenceClassification.forward` and have been ignored: document, id.\n",
      "***** Running Evaluation *****\n",
      "  Num examples = 50000\n",
      "  Batch size = 16\n"
     ]
    },
    {
     "name": "stdout",
     "output_type": "stream",
     "text": [
      "(50000, 2) [[-1.7088133   2.3726826 ]\n",
      " [-0.39063868  0.95624083]\n",
      " [ 1.0127991  -1.7403146 ]\n",
      " ...\n",
      " [ 0.12422004 -0.9460077 ]\n",
      " [ 3.0438924  -3.3163    ]\n",
      " [ 1.3523451  -1.4982514 ]]\n",
      "(50000,) [1 1 0 ... 0 0 0]\n"
     ]
    },
    {
     "name": "stderr",
     "output_type": "stream",
     "text": [
      "Saving model checkpoint to /aiffel/aiffel/hugging_face_transformers/output/checkpoint-9375\n",
      "Configuration saved in /aiffel/aiffel/hugging_face_transformers/output/checkpoint-9375/config.json\n",
      "Model weights saved in /aiffel/aiffel/hugging_face_transformers/output/checkpoint-9375/pytorch_model.bin\n",
      "tokenizer config file saved in /aiffel/aiffel/hugging_face_transformers/output/checkpoint-9375/tokenizer_config.json\n",
      "Special tokens file saved in /aiffel/aiffel/hugging_face_transformers/output/checkpoint-9375/special_tokens_map.json\n",
      "The following columns in the evaluation set  don't have a corresponding argument in `BertForSequenceClassification.forward` and have been ignored: document, id.\n",
      "***** Running Evaluation *****\n",
      "  Num examples = 50000\n",
      "  Batch size = 16\n"
     ]
    },
    {
     "name": "stdout",
     "output_type": "stream",
     "text": [
      "(50000, 2) [[-2.022908    2.9016116 ]\n",
      " [-0.51678807  1.212932  ]\n",
      " [ 1.8249114  -2.6563537 ]\n",
      " ...\n",
      " [ 0.12189508 -0.6925392 ]\n",
      " [ 3.29378    -3.4516442 ]\n",
      " [ 1.6245687  -1.733438  ]]\n",
      "(50000,) [1 1 0 ... 0 0 0]\n"
     ]
    },
    {
     "name": "stderr",
     "output_type": "stream",
     "text": [
      "The following columns in the evaluation set  don't have a corresponding argument in `BertForSequenceClassification.forward` and have been ignored: document, id.\n",
      "***** Running Evaluation *****\n",
      "  Num examples = 50000\n",
      "  Batch size = 16\n"
     ]
    },
    {
     "name": "stdout",
     "output_type": "stream",
     "text": [
      "(50000, 2) [[-1.8958389   2.7637146 ]\n",
      " [-0.74774677  1.5035726 ]\n",
      " [ 1.5194724  -2.4797711 ]\n",
      " ...\n",
      " [-0.14719819 -0.5951033 ]\n",
      " [ 3.2197847  -3.519077  ]\n",
      " [ 1.7048578  -2.0318184 ]]\n",
      "(50000,) [1 1 0 ... 0 0 0]\n"
     ]
    },
    {
     "name": "stderr",
     "output_type": "stream",
     "text": [
      "The following columns in the evaluation set  don't have a corresponding argument in `BertForSequenceClassification.forward` and have been ignored: document, id.\n",
      "***** Running Evaluation *****\n",
      "  Num examples = 50000\n",
      "  Batch size = 16\n"
     ]
    },
    {
     "name": "stdout",
     "output_type": "stream",
     "text": [
      "(50000, 2) [[-2.1264453   2.9975152 ]\n",
      " [-0.92055106  1.737956  ]\n",
      " [ 1.7929804  -2.7875845 ]\n",
      " ...\n",
      " [ 0.4941606  -1.498339  ]\n",
      " [ 3.4791675  -3.7262087 ]\n",
      " [ 1.851873   -2.1137223 ]]\n",
      "(50000,) [1 1 0 ... 0 0 0]\n"
     ]
    },
    {
     "name": "stderr",
     "output_type": "stream",
     "text": [
      "The following columns in the evaluation set  don't have a corresponding argument in `BertForSequenceClassification.forward` and have been ignored: document, id.\n",
      "***** Running Evaluation *****\n",
      "  Num examples = 50000\n",
      "  Batch size = 16\n"
     ]
    },
    {
     "name": "stdout",
     "output_type": "stream",
     "text": [
      "(50000, 2) [[-2.1467438   2.7223797 ]\n",
      " [-1.3257294   2.2359056 ]\n",
      " [ 2.2534168  -3.046104  ]\n",
      " ...\n",
      " [ 0.64295876 -1.4920814 ]\n",
      " [ 3.494222   -3.7308598 ]\n",
      " [ 1.8012785  -2.1498334 ]]\n",
      "(50000,) [1 1 0 ... 0 0 0]\n"
     ]
    },
    {
     "name": "stderr",
     "output_type": "stream",
     "text": [
      "The following columns in the evaluation set  don't have a corresponding argument in `BertForSequenceClassification.forward` and have been ignored: document, id.\n",
      "***** Running Evaluation *****\n",
      "  Num examples = 50000\n",
      "  Batch size = 16\n"
     ]
    },
    {
     "name": "stdout",
     "output_type": "stream",
     "text": [
      "(50000, 2) [[-1.8847947   2.6775067 ]\n",
      " [-1.1397136   2.0428834 ]\n",
      " [ 1.3476651  -2.1883955 ]\n",
      " ...\n",
      " [-0.22036923 -0.56359446]\n",
      " [ 3.2715895  -3.6868136 ]\n",
      " [ 1.2724344  -1.5238366 ]]\n",
      "(50000,) [1 1 0 ... 0 0 0]\n"
     ]
    },
    {
     "name": "stderr",
     "output_type": "stream",
     "text": [
      "The following columns in the evaluation set  don't have a corresponding argument in `BertForSequenceClassification.forward` and have been ignored: document, id.\n",
      "***** Running Evaluation *****\n",
      "  Num examples = 50000\n",
      "  Batch size = 16\n"
     ]
    },
    {
     "name": "stdout",
     "output_type": "stream",
     "text": [
      "(50000, 2) [[-1.764191    2.7201803 ]\n",
      " [-1.2264837   2.1787665 ]\n",
      " [ 1.9312259  -2.7300563 ]\n",
      " ...\n",
      " [-0.05618178 -0.6127234 ]\n",
      " [ 2.8842533  -3.4982097 ]\n",
      " [ 1.652776   -1.9292569 ]]\n",
      "(50000,) [1 1 0 ... 0 0 0]\n"
     ]
    },
    {
     "name": "stderr",
     "output_type": "stream",
     "text": [
      "The following columns in the evaluation set  don't have a corresponding argument in `BertForSequenceClassification.forward` and have been ignored: document, id.\n",
      "***** Running Evaluation *****\n",
      "  Num examples = 50000\n",
      "  Batch size = 16\n"
     ]
    },
    {
     "name": "stdout",
     "output_type": "stream",
     "text": [
      "(50000, 2) [[-2.2972856   3.0626535 ]\n",
      " [-1.1015155   1.9687145 ]\n",
      " [ 2.0000372  -2.8308184 ]\n",
      " ...\n",
      " [ 0.21776578 -0.9879082 ]\n",
      " [ 3.2241154  -3.7005107 ]\n",
      " [ 1.6427761  -1.8970473 ]]\n",
      "(50000,) [1 1 0 ... 0 0 0]\n"
     ]
    },
    {
     "name": "stderr",
     "output_type": "stream",
     "text": [
      "The following columns in the evaluation set  don't have a corresponding argument in `BertForSequenceClassification.forward` and have been ignored: document, id.\n",
      "***** Running Evaluation *****\n",
      "  Num examples = 50000\n",
      "  Batch size = 16\n"
     ]
    },
    {
     "name": "stdout",
     "output_type": "stream",
     "text": [
      "(50000, 2) [[-2.369203    3.0907516 ]\n",
      " [-1.0065601   1.8751143 ]\n",
      " [ 2.0937357  -2.9806547 ]\n",
      " ...\n",
      " [-0.39057752 -0.16225515]\n",
      " [ 3.217614   -3.757125  ]\n",
      " [ 1.4306653  -1.8700261 ]]\n",
      "(50000,) [1 1 0 ... 1 0 0]\n"
     ]
    },
    {
     "name": "stderr",
     "output_type": "stream",
     "text": [
      "The following columns in the evaluation set  don't have a corresponding argument in `BertForSequenceClassification.forward` and have been ignored: document, id.\n",
      "***** Running Evaluation *****\n",
      "  Num examples = 50000\n",
      "  Batch size = 16\n"
     ]
    },
    {
     "name": "stdout",
     "output_type": "stream",
     "text": [
      "(50000, 2) [[-1.9141     2.4446373]\n",
      " [-0.5649489  1.3356127]\n",
      " [ 1.7041512 -2.6136131]\n",
      " ...\n",
      " [ 0.4455439 -1.3170937]\n",
      " [ 2.7694478 -3.4799132]\n",
      " [ 1.2189225 -1.6441227]]\n",
      "(50000,) [1 1 0 ... 0 0 0]\n"
     ]
    },
    {
     "name": "stderr",
     "output_type": "stream",
     "text": [
      "The following columns in the evaluation set  don't have a corresponding argument in `BertForSequenceClassification.forward` and have been ignored: document, id.\n",
      "***** Running Evaluation *****\n",
      "  Num examples = 50000\n",
      "  Batch size = 16\n"
     ]
    },
    {
     "name": "stdout",
     "output_type": "stream",
     "text": [
      "(50000, 2) [[-2.189473    2.697199  ]\n",
      " [-0.40694252  1.1629691 ]\n",
      " [ 2.117797   -3.0372322 ]\n",
      " ...\n",
      " [ 0.34465608 -1.2718291 ]\n",
      " [ 3.1332128  -3.710242  ]\n",
      " [ 1.3482983  -1.9368354 ]]\n",
      "(50000,) [1 1 0 ... 0 0 0]\n"
     ]
    },
    {
     "name": "stderr",
     "output_type": "stream",
     "text": [
      "The following columns in the evaluation set  don't have a corresponding argument in `BertForSequenceClassification.forward` and have been ignored: document, id.\n",
      "***** Running Evaluation *****\n",
      "  Num examples = 50000\n",
      "  Batch size = 16\n"
     ]
    },
    {
     "name": "stdout",
     "output_type": "stream",
     "text": [
      "(50000, 2) [[-2.0185196   2.5515916 ]\n",
      " [-0.30827725  1.0719876 ]\n",
      " [ 1.94718    -2.8642447 ]\n",
      " ...\n",
      " [ 0.3379473  -1.1744902 ]\n",
      " [ 3.3778365  -3.834376  ]\n",
      " [ 1.3300214  -1.7532945 ]]\n",
      "(50000,) [1 1 0 ... 0 0 0]\n"
     ]
    },
    {
     "name": "stderr",
     "output_type": "stream",
     "text": [
      "The following columns in the evaluation set  don't have a corresponding argument in `BertForSequenceClassification.forward` and have been ignored: document, id.\n",
      "***** Running Evaluation *****\n",
      "  Num examples = 50000\n",
      "  Batch size = 16\n"
     ]
    },
    {
     "name": "stdout",
     "output_type": "stream",
     "text": [
      "(50000, 2) [[-2.3345997  2.9788966]\n",
      " [-0.5836303  1.4741081]\n",
      " [ 1.5563492 -2.496638 ]\n",
      " ...\n",
      " [-0.3077438 -0.3310492]\n",
      " [ 3.1326883 -3.737399 ]\n",
      " [ 1.340068  -1.7387664]]\n",
      "(50000,) [1 1 0 ... 0 0 0]\n"
     ]
    },
    {
     "name": "stderr",
     "output_type": "stream",
     "text": [
      "The following columns in the evaluation set  don't have a corresponding argument in `BertForSequenceClassification.forward` and have been ignored: document, id.\n",
      "***** Running Evaluation *****\n",
      "  Num examples = 50000\n",
      "  Batch size = 16\n"
     ]
    },
    {
     "name": "stdout",
     "output_type": "stream",
     "text": [
      "(50000, 2) [[-2.192431    2.817046  ]\n",
      " [-0.5014699   1.4040213 ]\n",
      " [ 1.2744353  -2.1956346 ]\n",
      " ...\n",
      " [ 0.10037883 -0.88209885]\n",
      " [ 3.1952538  -3.731927  ]\n",
      " [ 1.1098621  -1.4267218 ]]\n",
      "(50000,) [1 1 0 ... 0 0 0]\n"
     ]
    },
    {
     "name": "stderr",
     "output_type": "stream",
     "text": [
      "The following columns in the evaluation set  don't have a corresponding argument in `BertForSequenceClassification.forward` and have been ignored: document, id.\n",
      "***** Running Evaluation *****\n",
      "  Num examples = 50000\n",
      "  Batch size = 16\n"
     ]
    },
    {
     "name": "stdout",
     "output_type": "stream",
     "text": [
      "(50000, 2) [[-2.04883     2.6710126 ]\n",
      " [-0.45103186  1.357137  ]\n",
      " [ 1.2349644  -2.140392  ]\n",
      " ...\n",
      " [-0.38596842 -0.13536482]\n",
      " [ 3.2916007  -3.8306227 ]\n",
      " [ 1.2017089  -1.5255188 ]]\n",
      "(50000,) [1 1 0 ... 1 0 0]\n"
     ]
    },
    {
     "name": "stderr",
     "output_type": "stream",
     "text": [
      "The following columns in the evaluation set  don't have a corresponding argument in `BertForSequenceClassification.forward` and have been ignored: document, id.\n",
      "***** Running Evaluation *****\n",
      "  Num examples = 50000\n",
      "  Batch size = 16\n"
     ]
    },
    {
     "name": "stdout",
     "output_type": "stream",
     "text": [
      "(50000, 2) [[-2.223267    2.8658054 ]\n",
      " [-0.43972856  1.3030032 ]\n",
      " [ 1.4713228  -2.3985822 ]\n",
      " ...\n",
      " [ 0.14785507 -0.92288053]\n",
      " [ 3.3259268  -3.851736  ]\n",
      " [ 1.0063154  -1.3391583 ]]\n",
      "(50000,) [1 1 0 ... 0 0 0]\n"
     ]
    },
    {
     "name": "stderr",
     "output_type": "stream",
     "text": [
      "The following columns in the evaluation set  don't have a corresponding argument in `BertForSequenceClassification.forward` and have been ignored: document, id.\n",
      "***** Running Evaluation *****\n",
      "  Num examples = 50000\n",
      "  Batch size = 16\n"
     ]
    },
    {
     "name": "stdout",
     "output_type": "stream",
     "text": [
      "(50000, 2) [[-2.288857    2.9444666 ]\n",
      " [-0.47022042  1.34006   ]\n",
      " [ 1.7303284  -2.6347094 ]\n",
      " ...\n",
      " [ 0.75470483 -1.5630388 ]\n",
      " [ 3.3766418  -3.8763103 ]\n",
      " [ 1.2166256  -1.5762489 ]]\n",
      "(50000,) [1 1 0 ... 0 0 0]\n"
     ]
    },
    {
     "name": "stderr",
     "output_type": "stream",
     "text": [
      "The following columns in the evaluation set  don't have a corresponding argument in `BertForSequenceClassification.forward` and have been ignored: document, id.\n",
      "***** Running Evaluation *****\n",
      "  Num examples = 50000\n",
      "  Batch size = 16\n"
     ]
    },
    {
     "name": "stdout",
     "output_type": "stream",
     "text": [
      "(50000, 2) [[-2.1810482   2.8590648 ]\n",
      " [-0.35694832  1.2162777 ]\n",
      " [ 1.688046   -2.5680888 ]\n",
      " ...\n",
      " [ 0.7517183  -1.5386033 ]\n",
      " [ 3.440646   -3.9195375 ]\n",
      " [ 1.2160867  -1.5384934 ]]\n",
      "(50000,) [1 1 0 ... 0 0 0]\n"
     ]
    },
    {
     "name": "stderr",
     "output_type": "stream",
     "text": [
      "The following columns in the evaluation set  don't have a corresponding argument in `BertForSequenceClassification.forward` and have been ignored: document, id.\n",
      "***** Running Evaluation *****\n",
      "  Num examples = 50000\n",
      "  Batch size = 16\n"
     ]
    },
    {
     "name": "stdout",
     "output_type": "stream",
     "text": [
      "(50000, 2) [[-2.1263819   2.7993166 ]\n",
      " [-0.33590072  1.1990703 ]\n",
      " [ 1.7375814  -2.6101975 ]\n",
      " ...\n",
      " [ 0.5445172  -1.3227887 ]\n",
      " [ 3.377713   -3.902636  ]\n",
      " [ 1.2473344  -1.6138761 ]]\n",
      "(50000,) [1 1 0 ... 0 0 0]\n"
     ]
    },
    {
     "name": "stderr",
     "output_type": "stream",
     "text": [
      "The following columns in the evaluation set  don't have a corresponding argument in `BertForSequenceClassification.forward` and have been ignored: document, id.\n",
      "***** Running Evaluation *****\n",
      "  Num examples = 50000\n",
      "  Batch size = 16\n"
     ]
    },
    {
     "name": "stdout",
     "output_type": "stream",
     "text": [
      "(50000, 2) [[-2.112761    2.7836838 ]\n",
      " [-0.40424395  1.2812573 ]\n",
      " [ 1.6378759  -2.5063622 ]\n",
      " ...\n",
      " [ 0.41083452 -1.167566  ]\n",
      " [ 3.3316545  -3.8665137 ]\n",
      " [ 1.1358777  -1.4947085 ]]\n",
      "(50000,) [1 1 0 ... 0 0 0]\n"
     ]
    },
    {
     "name": "stderr",
     "output_type": "stream",
     "text": [
      "Saving model checkpoint to /aiffel/aiffel/hugging_face_transformers/output/checkpoint-18750\n",
      "Configuration saved in /aiffel/aiffel/hugging_face_transformers/output/checkpoint-18750/config.json\n",
      "Model weights saved in /aiffel/aiffel/hugging_face_transformers/output/checkpoint-18750/pytorch_model.bin\n",
      "tokenizer config file saved in /aiffel/aiffel/hugging_face_transformers/output/checkpoint-18750/tokenizer_config.json\n",
      "Special tokens file saved in /aiffel/aiffel/hugging_face_transformers/output/checkpoint-18750/special_tokens_map.json\n",
      "\n",
      "\n",
      "Training completed. Do not forget to share your model on huggingface.co/models =)\n",
      "\n",
      "\n"
     ]
    },
    {
     "data": {
      "text/plain": [
       "TrainOutput(global_step=18750, training_loss=0.22986080993652344, metrics={'train_runtime': 11971.6652, 'train_samples_per_second': 25.059, 'train_steps_per_second': 1.566, 'total_flos': 9733020604318080.0, 'train_loss': 0.22986080993652344, 'epoch': 2.0})"
      ]
     },
     "execution_count": 15,
     "metadata": {},
     "output_type": "execute_result"
    }
   ],
   "source": [
    "trainer.train()"
   ]
  },
  {
   "cell_type": "code",
   "execution_count": 16,
   "id": "4e5e1ba5",
   "metadata": {},
   "outputs": [
    {
     "name": "stderr",
     "output_type": "stream",
     "text": [
      "The following columns in the evaluation set  don't have a corresponding argument in `BertForSequenceClassification.forward` and have been ignored: document, id.\n",
      "***** Running Evaluation *****\n",
      "  Num examples = 50000\n",
      "  Batch size = 16\n"
     ]
    },
    {
     "data": {
      "text/html": [
       "\n",
       "    <div>\n",
       "      \n",
       "      <progress value='3125' max='3125' style='width:300px; height:20px; vertical-align: middle;'></progress>\n",
       "      [3125/3125 03:36]\n",
       "    </div>\n",
       "    "
      ],
      "text/plain": [
       "<IPython.core.display.HTML object>"
      ]
     },
     "metadata": {},
     "output_type": "display_data"
    },
    {
     "name": "stdout",
     "output_type": "stream",
     "text": [
      "(50000, 2) [[-2.0881035   2.7594452 ]\n",
      " [-0.3890107   1.2618679 ]\n",
      " [ 1.6213051  -2.4911911 ]\n",
      " ...\n",
      " [ 0.42239082 -1.1803601 ]\n",
      " [ 3.320626   -3.860013  ]\n",
      " [ 1.1174031  -1.4742037 ]]\n",
      "(50000,) [1 1 0 ... 0 0 0]\n"
     ]
    },
    {
     "data": {
      "text/plain": [
       "{'eval_loss': 0.2848275899887085,\n",
       " 'eval_accuracy': 0.90676,\n",
       " 'eval_runtime': 216.6969,\n",
       " 'eval_samples_per_second': 230.737,\n",
       " 'eval_steps_per_second': 14.421,\n",
       " 'epoch': 2.0}"
      ]
     },
     "execution_count": 16,
     "metadata": {},
     "output_type": "execute_result"
    }
   ],
   "source": [
    "trainer.evaluate(encoded_dataset['test'])"
   ]
  },
  {
   "cell_type": "markdown",
   "id": "e8a2f086",
   "metadata": {},
   "source": [
    "## 4. 결론"
   ]
  },
  {
   "cell_type": "markdown",
   "id": "f600259f",
   "metadata": {},
   "source": [
    "Hugging Face 의 transformers를 사용하여, klue/bert_base model을 통해, NSMC 데이터를 Positive, Negative 감성분석을 실행해 보면서,Hugging Face 사용방법을 익혀보는 프로젝트\n",
    "\n",
    "0.90676의 정학도를 보여줬다."
   ]
  }
 ],
 "metadata": {
  "kernelspec": {
   "display_name": "Python 3 (ipykernel)",
   "language": "python",
   "name": "python3"
  },
  "language_info": {
   "codemirror_mode": {
    "name": "ipython",
    "version": 3
   },
   "file_extension": ".py",
   "mimetype": "text/x-python",
   "name": "python",
   "nbconvert_exporter": "python",
   "pygments_lexer": "ipython3",
   "version": "3.9.7"
  }
 },
 "nbformat": 4,
 "nbformat_minor": 5
}
