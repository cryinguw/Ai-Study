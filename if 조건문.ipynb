{
 "cells": [
  {
   "cell_type": "markdown",
   "id": "f57a6da6",
   "metadata": {},
   "source": [
    "# if 조건문"
   ]
  },
  {
   "cell_type": "code",
   "execution_count": 2,
   "id": "43348092",
   "metadata": {},
   "outputs": [
    {
     "name": "stdout",
     "output_type": "stream",
     "text": [
      "10입니다.\n"
     ]
    }
   ],
   "source": [
    "x = 10\n",
    "if x == 10:\n",
    "    print('10입니다.')"
   ]
  },
  {
   "cell_type": "code",
   "execution_count": 3,
   "id": "9227db4c",
   "metadata": {},
   "outputs": [
    {
     "name": "stdout",
     "output_type": "stream",
     "text": [
      "10\n",
      "10입니다.\n"
     ]
    }
   ],
   "source": [
    "x = int(input())          # 입력받은 값을 변수에 저장\n",
    " \n",
    "if x == 10:               # x가 10이면\n",
    "    print('10입니다.')    # '10입니다.'를 출력\n",
    " \n",
    "if x == 20:               # x가 20이면\n",
    "    print('20입니다.')    # '20입니다.'를 출력"
   ]
  },
  {
   "cell_type": "markdown",
   "id": "42be6d9e",
   "metadata": {},
   "source": [
    "# elif "
   ]
  },
  {
   "cell_type": "code",
   "execution_count": 4,
   "id": "6a5fe14c",
   "metadata": {},
   "outputs": [
    {
     "name": "stdout",
     "output_type": "stream",
     "text": [
      "10도 20도 아닙니다.\n"
     ]
    }
   ],
   "source": [
    "x = 30\n",
    " \n",
    "if x == 10:            \n",
    "    print('10입니다.')\n",
    "elif x == 20:           \n",
    "    print('20입니다.')\n",
    "else:                  # 조건식에 모두 만족하지 않을 때\n",
    "    print('10도 20도 아닙니다.')"
   ]
  },
  {
   "cell_type": "code",
   "execution_count": null,
   "id": "c0fdf1e9",
   "metadata": {},
   "outputs": [],
   "source": []
  }
 ],
 "metadata": {
  "kernelspec": {
   "display_name": "Python 3 (ipykernel)",
   "language": "python",
   "name": "python3"
  },
  "language_info": {
   "codemirror_mode": {
    "name": "ipython",
    "version": 3
   },
   "file_extension": ".py",
   "mimetype": "text/x-python",
   "name": "python",
   "nbconvert_exporter": "python",
   "pygments_lexer": "ipython3",
   "version": "3.9.13"
  }
 },
 "nbformat": 4,
 "nbformat_minor": 5
}
