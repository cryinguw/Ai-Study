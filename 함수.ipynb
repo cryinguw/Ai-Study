{
 "cells": [
  {
   "cell_type": "code",
   "execution_count": 1,
   "id": "eb9205d8",
   "metadata": {},
   "outputs": [
    {
     "name": "stdout",
     "output_type": "stream",
     "text": [
      "Hello, world!\n"
     ]
    }
   ],
   "source": [
    "def hello():\n",
    "    print('Hello, world!')\n",
    " \n",
    "hello()"
   ]
  },
  {
   "cell_type": "code",
   "execution_count": 3,
   "id": "919c4629",
   "metadata": {},
   "outputs": [
    {
     "name": "stdout",
     "output_type": "stream",
     "text": [
      "6\n"
     ]
    }
   ],
   "source": [
    "def add(a, b):\n",
    "     print(a + b)\n",
    "        \n",
    "add(1,5)"
   ]
  },
  {
   "cell_type": "markdown",
   "id": "2c8890b5",
   "metadata": {},
   "source": [
    "### 함수 값 변환"
   ]
  },
  {
   "cell_type": "code",
   "execution_count": 7,
   "id": "4b9b1c6a",
   "metadata": {},
   "outputs": [
    {
     "name": "stdout",
     "output_type": "stream",
     "text": [
      "20 12\n"
     ]
    }
   ],
   "source": [
    "def add_sub(a, b):\n",
    "     return a + b, a - b\n",
    "    \n",
    "    \n",
    "x, y = add_sub(16, 4)\n",
    "print(x, y)"
   ]
  },
  {
   "cell_type": "markdown",
   "id": "5ce1435d",
   "metadata": {},
   "source": [
    "### 인수 사용"
   ]
  },
  {
   "cell_type": "code",
   "execution_count": 10,
   "id": "a2f65c8d",
   "metadata": {},
   "outputs": [],
   "source": [
    "def personal_info(name, age, address):\n",
    "     print('이름: ', name)\n",
    "     print('나이: ', age)\n",
    "     print('주소: ', address)\n",
    "        \n",
    "personal_info('홍길동', 26, '서울')"
   ]
  },
  {
   "cell_type": "code",
   "execution_count": null,
   "id": "fb03bbe3",
   "metadata": {},
   "outputs": [],
   "source": []
  }
 ],
 "metadata": {
  "kernelspec": {
   "display_name": "Python 3 (ipykernel)",
   "language": "python",
   "name": "python3"
  },
  "language_info": {
   "codemirror_mode": {
    "name": "ipython",
    "version": 3
   },
   "file_extension": ".py",
   "mimetype": "text/x-python",
   "name": "python",
   "nbconvert_exporter": "python",
   "pygments_lexer": "ipython3",
   "version": "3.9.13"
  }
 },
 "nbformat": 4,
 "nbformat_minor": 5
}
